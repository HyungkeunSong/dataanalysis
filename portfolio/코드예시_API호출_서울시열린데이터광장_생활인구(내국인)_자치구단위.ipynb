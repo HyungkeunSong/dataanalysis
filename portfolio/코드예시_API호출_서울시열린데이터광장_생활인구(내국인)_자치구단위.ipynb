{
 "cells": [
  {
   "cell_type": "markdown",
   "metadata": {},
   "source": [
    "# API_자치구단위(내국인)"
   ]
  },
  {
   "cell_type": "code",
   "execution_count": 1,
   "metadata": {},
   "outputs": [],
   "source": [
    "import pandas as pd\n",
    "import numpy as np\n",
    "import json\n",
    "from bs4 import BeautifulSoup\n",
    "import requests\n",
    "import datetime, calendar, timedelta, time\n",
    "from collections import OrderedDict\n",
    "import urllib\n",
    "import re"
   ]
  },
  {
   "cell_type": "code",
   "execution_count": 2,
   "metadata": {},
   "outputs": [
    {
     "name": "stdin",
     "output_type": "stream",
     "text": [
      "Insert year ex)2020 2020\n",
      "Insert month ex)04, 12 05\n"
     ]
    },
    {
     "data": {
      "text/plain": [
       "31"
      ]
     },
     "execution_count": 2,
     "metadata": {},
     "output_type": "execute_result"
    }
   ],
   "source": [
    "# Date list\n",
    "year = int(input('Insert year ex)2020'))\n",
    "month = input('Insert month ex)04, 12')\n",
    "month_int = int(month)\n",
    "\n",
    "lastday = calendar.monthrange(year, month_int)[1]\n",
    "dt_list = list()\n",
    "\n",
    "for day in range(1, lastday+1):\n",
    "    dt = datetime.date(year,month_int,day)\n",
    "    dt = dt.strftime(\"%Y%m%d\")\n",
    "    dt_list.append(dt)\n",
    "\n",
    "len(dt_list)"
   ]
  },
  {
   "cell_type": "code",
   "execution_count": 3,
   "metadata": {},
   "outputs": [
    {
     "data": {
      "text/plain": [
       "600"
      ]
     },
     "execution_count": 3,
     "metadata": {},
     "output_type": "execute_result"
    }
   ],
   "source": [
    "# Setting Variable\n",
    "key = '***'\n",
    "start_idx = 1\n",
    "end_idx = 100\n",
    "d_date = dt_list[0]\n",
    "url = 'http://openapi.seoul.go.kr:8088/{}/json/SPOP_LOCAL_RESD_JACHI/1/100/{}'.format(key, d_date)\n",
    "\n",
    "# Response to dict\n",
    "response = urllib.request.urlopen(url)\n",
    "json_str = response.read()\n",
    "json_object = json.loads(json_str)\n",
    "\n",
    "# Total count\n",
    "list_total_count = json_object['SPOP_LOCAL_RESD_JACHI']['list_total_count']\n",
    "list_total_count"
   ]
  },
  {
   "cell_type": "code",
   "execution_count": 4,
   "metadata": {},
   "outputs": [
    {
     "data": {
      "text/plain": [
       "'http://openapi.seoul.go.kr:8088/795879516d736b643639784753666e/json/SPOP_LOCAL_RESD_JACHI/1/100/20200501'"
      ]
     },
     "execution_count": 4,
     "metadata": {},
     "output_type": "execute_result"
    }
   ],
   "source": [
    "url"
   ]
  },
  {
   "cell_type": "code",
   "execution_count": 5,
   "metadata": {},
   "outputs": [
    {
     "data": {
      "text/plain": [
       "217"
      ]
     },
     "execution_count": 5,
     "metadata": {},
     "output_type": "execute_result"
    }
   ],
   "source": [
    "# url_list\n",
    "url_list = list()\n",
    "\n",
    "for day in dt_list:\n",
    "    d_date = str(day)\n",
    "    start_idx = 1\n",
    "    end_idx = 100\n",
    "    \n",
    "    for i in range(0,int(list_total_count/end_idx)+1):\n",
    "        if end_idx <= list_total_count:\n",
    "            url = 'http://openapi.seoul.go.kr:8088/{}/json/SPOP_LOCAL_RESD_JACHI/{}/{}/{}'.format(key, start_idx, end_idx, d_date)\n",
    "            url_list.append(url)\n",
    "        else:\n",
    "            end_idx = list_total_count\n",
    "            url = 'http://openapi.seoul.go.kr:8088/{}/json/SPOP_LOCAL_RESD_JACHI/{}/{}/{}'.format(key, start_idx, end_idx, d_date)\n",
    "            url_list.append(url)\n",
    "            break            \n",
    "        start_idx += 100\n",
    "        end_idx += 100             \n",
    "            \n",
    "len(url_list)"
   ]
  },
  {
   "cell_type": "code",
   "execution_count": 6,
   "metadata": {},
   "outputs": [
    {
     "data": {
      "text/plain": [
       "['http://openapi.seoul.go.kr:8088/795879516d736b643639784753666e/json/SPOP_LOCAL_RESD_JACHI/201/300/20200531',\n",
       " 'http://openapi.seoul.go.kr:8088/795879516d736b643639784753666e/json/SPOP_LOCAL_RESD_JACHI/301/400/20200531',\n",
       " 'http://openapi.seoul.go.kr:8088/795879516d736b643639784753666e/json/SPOP_LOCAL_RESD_JACHI/401/500/20200531',\n",
       " 'http://openapi.seoul.go.kr:8088/795879516d736b643639784753666e/json/SPOP_LOCAL_RESD_JACHI/501/600/20200531',\n",
       " 'http://openapi.seoul.go.kr:8088/795879516d736b643639784753666e/json/SPOP_LOCAL_RESD_JACHI/601/600/20200531']"
      ]
     },
     "execution_count": 6,
     "metadata": {},
     "output_type": "execute_result"
    }
   ],
   "source": [
    "url_list[-5:]"
   ]
  },
  {
   "cell_type": "markdown",
   "metadata": {},
   "source": [
    "## Extract Data"
   ]
  },
  {
   "cell_type": "code",
   "execution_count": 7,
   "metadata": {},
   "outputs": [],
   "source": [
    "# url_list"
   ]
  },
  {
   "cell_type": "code",
   "execution_count": 9,
   "metadata": {},
   "outputs": [
    {
     "ename": "KeyError",
     "evalue": "'SPOP_LOCAL_RESD_JACHI'",
     "output_type": "error",
     "traceback": [
      "\u001b[1;31m---------------------------------------------------------------------------\u001b[0m",
      "\u001b[1;31mKeyError\u001b[0m                                  Traceback (most recent call last)",
      "\u001b[1;32m<ipython-input-9-9d5d6dade54a>\u001b[0m in \u001b[0;36m<module>\u001b[1;34m\u001b[0m\n\u001b[0;32m      7\u001b[0m \u001b[1;33m\u001b[0m\u001b[0m\n\u001b[0;32m      8\u001b[0m     \u001b[1;31m#Extract dict\u001b[0m\u001b[1;33m\u001b[0m\u001b[1;33m\u001b[0m\u001b[1;33m\u001b[0m\u001b[0m\n\u001b[1;32m----> 9\u001b[1;33m     \u001b[0mdict_raw\u001b[0m \u001b[1;33m=\u001b[0m \u001b[0mjson_object\u001b[0m\u001b[1;33m[\u001b[0m\u001b[1;34m'SPOP_LOCAL_RESD_JACHI'\u001b[0m\u001b[1;33m]\u001b[0m\u001b[1;33m[\u001b[0m\u001b[1;34m'row'\u001b[0m\u001b[1;33m]\u001b[0m\u001b[1;33m\u001b[0m\u001b[1;33m\u001b[0m\u001b[0m\n\u001b[0m\u001b[0;32m     10\u001b[0m     \u001b[1;31m#dict to df\u001b[0m\u001b[1;33m\u001b[0m\u001b[1;33m\u001b[0m\u001b[1;33m\u001b[0m\u001b[0m\n\u001b[0;32m     11\u001b[0m     \u001b[0mdf_raw\u001b[0m \u001b[1;33m=\u001b[0m \u001b[0mpd\u001b[0m\u001b[1;33m.\u001b[0m\u001b[0mDataFrame\u001b[0m\u001b[1;33m(\u001b[0m\u001b[0mdict_raw\u001b[0m\u001b[1;33m)\u001b[0m\u001b[1;33m\u001b[0m\u001b[1;33m\u001b[0m\u001b[0m\n",
      "\u001b[1;31mKeyError\u001b[0m: 'SPOP_LOCAL_RESD_JACHI'"
     ]
    }
   ],
   "source": [
    "df_raw_list = list()\n",
    "\n",
    "for url_i in url_list:\n",
    "    response = urllib.request.urlopen(url_i)\n",
    "    json_str = response.read()\n",
    "    json_object = json.loads(json_str)\n",
    "\n",
    "    #Extract dict\n",
    "    dict_raw = json_object['SPOP_LOCAL_RESD_JACHI']['row']\n",
    "    #dict to df\n",
    "    df_raw = pd.DataFrame(dict_raw)\n",
    "    df_raw_list.append(df_raw)\n",
    "    #print(url_i)\n",
    "\n",
    "len(df_raw_list)"
   ]
  },
  {
   "cell_type": "code",
   "execution_count": 10,
   "metadata": {},
   "outputs": [
    {
     "name": "stdout",
     "output_type": "stream",
     "text": [
      "(600, 32)\n"
     ]
    },
    {
     "data": {
      "text/html": [
       "<div>\n",
       "<style scoped>\n",
       "    .dataframe tbody tr th:only-of-type {\n",
       "        vertical-align: middle;\n",
       "    }\n",
       "\n",
       "    .dataframe tbody tr th {\n",
       "        vertical-align: top;\n",
       "    }\n",
       "\n",
       "    .dataframe thead th {\n",
       "        text-align: right;\n",
       "    }\n",
       "</style>\n",
       "<table border=\"1\" class=\"dataframe\">\n",
       "  <thead>\n",
       "    <tr style=\"text-align: right;\">\n",
       "      <th></th>\n",
       "      <th>STDR_DE_ID</th>\n",
       "      <th>TMZON_PD_SE</th>\n",
       "      <th>ADSTRD_CODE_SE</th>\n",
       "      <th>TOT_LVPOP_CO</th>\n",
       "      <th>MALE_F0T9_LVPOP_CO</th>\n",
       "      <th>MALE_F10T14_LVPOP_CO</th>\n",
       "      <th>MALE_F15T19_LVPOP_CO</th>\n",
       "      <th>MALE_F20T24_LVPOP_CO</th>\n",
       "      <th>MALE_F25T29_LVPOP_CO</th>\n",
       "      <th>MALE_F30T34_LVPOP_CO</th>\n",
       "      <th>...</th>\n",
       "      <th>FEMALE_F25T29_LVPOP_CO</th>\n",
       "      <th>FEMALE_F30T34_LVPOP_CO</th>\n",
       "      <th>FEMALE_F35T39_LVPOP_CO</th>\n",
       "      <th>FEMALE_F40T44_LVPOP_CO</th>\n",
       "      <th>FEMALE_F45T49_LVPOP_CO</th>\n",
       "      <th>FEMALE_F50T54_LVPOP_CO</th>\n",
       "      <th>FEMALE_F55T59_LVPOP_CO</th>\n",
       "      <th>FEMALE_F60T64_LVPOP_CO</th>\n",
       "      <th>FEMALE_F65T69_LVPOP_CO</th>\n",
       "      <th>FEMALE_F70T74_LVPOP_CO</th>\n",
       "    </tr>\n",
       "  </thead>\n",
       "  <tbody>\n",
       "    <tr>\n",
       "      <th>0</th>\n",
       "      <td>20200501</td>\n",
       "      <td>00</td>\n",
       "      <td>11110</td>\n",
       "      <td>207572.7085</td>\n",
       "      <td>4862.9403</td>\n",
       "      <td>2838.9254</td>\n",
       "      <td>4896.0967</td>\n",
       "      <td>9616.2358</td>\n",
       "      <td>10208.4014</td>\n",
       "      <td>7823.3271</td>\n",
       "      <td>...</td>\n",
       "      <td>8227.0112</td>\n",
       "      <td>6934.3864</td>\n",
       "      <td>7732.1275</td>\n",
       "      <td>7339.2481</td>\n",
       "      <td>8801.0352</td>\n",
       "      <td>7461.6656</td>\n",
       "      <td>8202.2744</td>\n",
       "      <td>7119.5769</td>\n",
       "      <td>5461.9432</td>\n",
       "      <td>15445.9707</td>\n",
       "    </tr>\n",
       "    <tr>\n",
       "      <th>1</th>\n",
       "      <td>20200501</td>\n",
       "      <td>00</td>\n",
       "      <td>11140</td>\n",
       "      <td>172324.0726</td>\n",
       "      <td>3777.5903</td>\n",
       "      <td>1519.1125</td>\n",
       "      <td>2592.1535</td>\n",
       "      <td>6263.8586</td>\n",
       "      <td>8050.3246</td>\n",
       "      <td>8701.6942</td>\n",
       "      <td>...</td>\n",
       "      <td>8665.3305</td>\n",
       "      <td>8029.665</td>\n",
       "      <td>8855.8119</td>\n",
       "      <td>6579.7364</td>\n",
       "      <td>6885.3175</td>\n",
       "      <td>5748.1929</td>\n",
       "      <td>6489.8277</td>\n",
       "      <td>5673.3853</td>\n",
       "      <td>4149.0118</td>\n",
       "      <td>10679.3262</td>\n",
       "    </tr>\n",
       "    <tr>\n",
       "      <th>2</th>\n",
       "      <td>20200501</td>\n",
       "      <td>00</td>\n",
       "      <td>11170</td>\n",
       "      <td>256468.2971</td>\n",
       "      <td>6798.0081</td>\n",
       "      <td>3395.4596</td>\n",
       "      <td>5783.9243</td>\n",
       "      <td>8675.3334</td>\n",
       "      <td>11641.25</td>\n",
       "      <td>11992.9908</td>\n",
       "      <td>...</td>\n",
       "      <td>12384.9772</td>\n",
       "      <td>11826.709</td>\n",
       "      <td>12472.309</td>\n",
       "      <td>9838.5169</td>\n",
       "      <td>10600.9414</td>\n",
       "      <td>8456.5985</td>\n",
       "      <td>9200.1933</td>\n",
       "      <td>8269.6105</td>\n",
       "      <td>5845.8238</td>\n",
       "      <td>17649.0584</td>\n",
       "    </tr>\n",
       "    <tr>\n",
       "      <th>3</th>\n",
       "      <td>20200501</td>\n",
       "      <td>00</td>\n",
       "      <td>11200</td>\n",
       "      <td>311460.8074</td>\n",
       "      <td>11342.6493</td>\n",
       "      <td>4824.7448</td>\n",
       "      <td>7166.1294</td>\n",
       "      <td>10575.2063</td>\n",
       "      <td>12633.8645</td>\n",
       "      <td>12320.9059</td>\n",
       "      <td>...</td>\n",
       "      <td>13125.8124</td>\n",
       "      <td>13252.551</td>\n",
       "      <td>14800.5888</td>\n",
       "      <td>11434.5035</td>\n",
       "      <td>12294.9133</td>\n",
       "      <td>10800.1467</td>\n",
       "      <td>12238.7131</td>\n",
       "      <td>10757.7469</td>\n",
       "      <td>7975.4695</td>\n",
       "      <td>20690.1658</td>\n",
       "    </tr>\n",
       "    <tr>\n",
       "      <th>4</th>\n",
       "      <td>20200501</td>\n",
       "      <td>00</td>\n",
       "      <td>11215</td>\n",
       "      <td>371362.061</td>\n",
       "      <td>11139.2732</td>\n",
       "      <td>6093.9766</td>\n",
       "      <td>10155.9146</td>\n",
       "      <td>15459.026</td>\n",
       "      <td>18036.9422</td>\n",
       "      <td>15581.7246</td>\n",
       "      <td>...</td>\n",
       "      <td>18318.9464</td>\n",
       "      <td>16131.0561</td>\n",
       "      <td>15184.1215</td>\n",
       "      <td>13583.9532</td>\n",
       "      <td>14901.5184</td>\n",
       "      <td>13540.7611</td>\n",
       "      <td>14196.7886</td>\n",
       "      <td>12727.4606</td>\n",
       "      <td>8797.7612</td>\n",
       "      <td>21139.237</td>\n",
       "    </tr>\n",
       "  </tbody>\n",
       "</table>\n",
       "<p>5 rows × 32 columns</p>\n",
       "</div>"
      ],
      "text/plain": [
       "  STDR_DE_ID TMZON_PD_SE ADSTRD_CODE_SE TOT_LVPOP_CO MALE_F0T9_LVPOP_CO  \\\n",
       "0   20200501          00          11110  207572.7085          4862.9403   \n",
       "1   20200501          00          11140  172324.0726          3777.5903   \n",
       "2   20200501          00          11170  256468.2971          6798.0081   \n",
       "3   20200501          00          11200  311460.8074         11342.6493   \n",
       "4   20200501          00          11215   371362.061         11139.2732   \n",
       "\n",
       "  MALE_F10T14_LVPOP_CO MALE_F15T19_LVPOP_CO MALE_F20T24_LVPOP_CO  \\\n",
       "0            2838.9254            4896.0967            9616.2358   \n",
       "1            1519.1125            2592.1535            6263.8586   \n",
       "2            3395.4596            5783.9243            8675.3334   \n",
       "3            4824.7448            7166.1294           10575.2063   \n",
       "4            6093.9766           10155.9146            15459.026   \n",
       "\n",
       "  MALE_F25T29_LVPOP_CO MALE_F30T34_LVPOP_CO  ... FEMALE_F25T29_LVPOP_CO  \\\n",
       "0           10208.4014            7823.3271  ...              8227.0112   \n",
       "1            8050.3246            8701.6942  ...              8665.3305   \n",
       "2             11641.25           11992.9908  ...             12384.9772   \n",
       "3           12633.8645           12320.9059  ...             13125.8124   \n",
       "4           18036.9422           15581.7246  ...             18318.9464   \n",
       "\n",
       "  FEMALE_F30T34_LVPOP_CO FEMALE_F35T39_LVPOP_CO FEMALE_F40T44_LVPOP_CO  \\\n",
       "0              6934.3864              7732.1275              7339.2481   \n",
       "1               8029.665              8855.8119              6579.7364   \n",
       "2              11826.709              12472.309              9838.5169   \n",
       "3              13252.551             14800.5888             11434.5035   \n",
       "4             16131.0561             15184.1215             13583.9532   \n",
       "\n",
       "  FEMALE_F45T49_LVPOP_CO FEMALE_F50T54_LVPOP_CO FEMALE_F55T59_LVPOP_CO  \\\n",
       "0              8801.0352              7461.6656              8202.2744   \n",
       "1              6885.3175              5748.1929              6489.8277   \n",
       "2             10600.9414              8456.5985              9200.1933   \n",
       "3             12294.9133             10800.1467             12238.7131   \n",
       "4             14901.5184             13540.7611             14196.7886   \n",
       "\n",
       "  FEMALE_F60T64_LVPOP_CO FEMALE_F65T69_LVPOP_CO FEMALE_F70T74_LVPOP_CO  \n",
       "0              7119.5769              5461.9432             15445.9707  \n",
       "1              5673.3853              4149.0118             10679.3262  \n",
       "2              8269.6105              5845.8238             17649.0584  \n",
       "3             10757.7469              7975.4695             20690.1658  \n",
       "4             12727.4606              8797.7612              21139.237  \n",
       "\n",
       "[5 rows x 32 columns]"
      ]
     },
     "execution_count": 10,
     "metadata": {},
     "output_type": "execute_result"
    }
   ],
   "source": [
    "df_raw = pd.concat(df_raw_list, axis=0).reset_index(drop=True)\n",
    "print(df_raw.shape)\n",
    "df_raw.head()"
   ]
  },
  {
   "cell_type": "code",
   "execution_count": null,
   "metadata": {},
   "outputs": [],
   "source": [
    "df_raw['ADSTRD_CODE_SE'].unique()"
   ]
  },
  {
   "cell_type": "markdown",
   "metadata": {},
   "source": [
    "### Unload"
   ]
  },
  {
   "cell_type": "code",
   "execution_count": null,
   "metadata": {},
   "outputs": [],
   "source": [
    "# Unload by file type\n",
    "path_out = 'C:/Users/sky/DataAnalytics/result_table/'\n",
    "file_name = '서울시열린데이터광장_생활인구_자치구단위(내국인)_{}{}'.format(year, month)\n",
    "file_type = ['.txt', '.xlsx']\n",
    "\n",
    "for type in file_type:\n",
    "    if type == '.txt':\n",
    "        path = path_out+file_name+type\n",
    "        df_raw.to_csv(path, sep='\\t', index=False, encoding='UTF8')\n",
    "    elif type == '.xlsx':\n",
    "        path = path_out+file_name+type\n",
    "        df_raw.to_excel(path, index=False)\n",
    "    else:\n",
    "        print('Wrong file type')\n",
    "\n",
    "# path_out + file_name + file_type[0]\n",
    "# df_raw.to_csv('C:/Users/sky/DataAnalytics/result_table/서울시열린데이터광장_생활인구_자치구단위(내국인)_202004.txt', sep='\\t', index=False, encoding='UTF8')\n",
    "# df_raw.to_excel('C:/Users/sky/DataAnalytics/result_table/서울시열린데이터광장_생활인구_자치구단위(내국인)_202004.xlsx', index=False)"
   ]
  },
  {
   "cell_type": "code",
   "execution_count": null,
   "metadata": {},
   "outputs": [],
   "source": []
  }
 ],
 "metadata": {
  "kernelspec": {
   "display_name": "Python 3",
   "language": "python",
   "name": "python3"
  },
  "language_info": {
   "codemirror_mode": {
    "name": "ipython",
    "version": 3
   },
   "file_extension": ".py",
   "mimetype": "text/x-python",
   "name": "python",
   "nbconvert_exporter": "python",
   "pygments_lexer": "ipython3",
   "version": "3.7.4"
  }
 },
 "nbformat": 4,
 "nbformat_minor": 4
}
