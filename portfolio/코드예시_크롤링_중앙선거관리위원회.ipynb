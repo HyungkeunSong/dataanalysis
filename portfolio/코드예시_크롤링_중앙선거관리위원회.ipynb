{
 "cells": [
  {
   "cell_type": "markdown",
   "metadata": {},
   "source": [
    "## 선거관리위원회 크롤링"
   ]
  },
  {
   "cell_type": "code",
   "execution_count": 20,
   "metadata": {},
   "outputs": [],
   "source": [
    "import pandas as pd, numpy as np, scipy as sp, seaborn as sns\n",
    "import matplotlib.pyplot as plt\n",
    "import re\n",
    "from bs4 import BeautifulSoup\n",
    "from urllib.request import urlopen\n",
    "import time\n",
    "import random\n",
    "import platform\n",
    "from matplotlib import rc\n",
    "import glob\n",
    "from selenium import webdriver\n",
    "import time\n",
    "\n",
    "%matplotlib inline\n",
    "\n",
    "rc('font', family='AppleGothic')"
   ]
  },
  {
   "cell_type": "code",
   "execution_count": 29,
   "metadata": {},
   "outputs": [],
   "source": [
    "driver = webdriver.Chrome('.../driver/chromedriver')\n",
    "driver.get('http://info.nec.go.kr/main/showDocument.xhtml?electionId=0020200415&topMenuId=VC&secondMenuId=VCCP08')"
   ]
  },
  {
   "cell_type": "code",
   "execution_count": 30,
   "metadata": {},
   "outputs": [],
   "source": [
    "xpath = '//*[@id=\"electionId2\"]'\n",
    "driver.find_element_by_xpath(xpath).click()"
   ]
  },
  {
   "cell_type": "code",
   "execution_count": 31,
   "metadata": {},
   "outputs": [],
   "source": [
    "def export_data():\n",
    "    #html parsing\n",
    "    html = driver.page_source\n",
    "    soup = BeautifulSoup(html, 'html.parser')\n",
    "\n",
    "\n",
    "    #선거구역정보 & 파일이름\n",
    "    vote_type = soup.find_all('span', id='electionName')[0].get_text().replace('[','').replace(']','')\n",
    "    region1 = soup.find_all('span', id='cityName')[0].get_text().replace('[','').replace(']','')\n",
    "    region2_type = soup.find_all('span', id='sggCityName')[0].get_text().replace('[','').replace(']','')\n",
    "    region2 = soup.find_all('span', id='townNameFromSgg')[0].get_text().replace('[','').replace(']','')\n",
    "    f_name = vote_type+'_'+region1+'_'+region2_type+'_'+region2\n",
    "\n",
    "\n",
    "    #컬럼명\n",
    "    head_list_raw = soup.find_all('thead')[0].get_text().strip().split('\\n\\n\\n')\n",
    "    head_list_candi = head_list_raw[1].split('\\n')\n",
    "\n",
    "    head_list_raw = head_list_raw[0].split('\\n')\n",
    "    head_list_main = head_list_raw[:4]\n",
    "    head_list_sub = head_list_raw[-2:]\n",
    "\n",
    "    head_list = head_list_main + head_list_candi + head_list_sub\n",
    "    head_list\n",
    "\n",
    "\n",
    "    #데이터프레임 생성\n",
    "    df_raw = pd.DataFrame(columns = head_list)\n",
    "\n",
    "\n",
    "    #df_raw_info\n",
    "    df_raw['읍면동명'] = [v.get_text() for v in soup.find_all('td', class_='firstTd alignL')]\n",
    "\n",
    "    tmp_list = []\n",
    "\n",
    "    for i_soup in soup.find_all('td', class_='alignL'):\n",
    "        x = str(i_soup)\n",
    "        if 'firstTd alignL' in x:\n",
    "            continue\n",
    "        else:\n",
    "            tmp_list.append(i_soup.get_text())\n",
    "\n",
    "    df_raw['투표구명'] = tmp_list\n",
    "    df_raw_info = df_raw.iloc[:,0:2].copy()\n",
    "\n",
    "\n",
    "    #df_raw_allvalues\n",
    "    elect_allvalues = [v.get_text() for v in soup.find_all('td', class_='alignR')]\n",
    "    elect_allvalues\n",
    "\n",
    "    df_raw_allvalues = df_raw.iloc[:,2:].copy()\n",
    "    df_raw_allvalues.shape\n",
    "\n",
    "    for i in range(0,df_raw_allvalues.shape[0]):\n",
    "        #print('{}번째'.format(i))\n",
    "        for j in range(0,df_raw_allvalues.shape[1]):\n",
    "            num = j+(i*df_raw_allvalues.shape[1])\n",
    "            df_raw_allvalues.iloc[i,j] = elect_allvalues[num]\n",
    "            #print(j)\n",
    "\n",
    "\n",
    "    #df_areainfo\n",
    "    df_areainfo = pd.DataFrame(columns = ['vote_type','region1','region2_type','region2'])\n",
    "\n",
    "    #합치기\n",
    "    df = pd.concat([df_areainfo,df_raw_info,df_raw_allvalues], axis=1)\n",
    "    df.loc[:,'vote_type'] = vote_type\n",
    "    df.loc[:,'region1'] = region1\n",
    "    df.loc[:,'region2_type'] = region2_type\n",
    "    df.loc[:,'region2'] = region2\n",
    "\n",
    "    #Export\n",
    "    export_path = '/Users/hyungkeun/Desktop/21_congress/{}.xlsx'.format(f_name)\n",
    "    df.to_excel(export_path,index=False) \n",
    "    "
   ]
  },
  {
   "cell_type": "code",
   "execution_count": 32,
   "metadata": {},
   "outputs": [],
   "source": [
    "#시도\n",
    "sido_list_raw = driver.find_element_by_xpath(\"\"\"//*[@id=\"cityCode\"]\"\"\")\n",
    "sido_list = sido_list_raw.find_elements_by_tag_name('option')\n",
    "sido_names_values = [option.text for option in sido_list]\n",
    "sido_values = sido_names_values[1:]\n",
    "\n",
    "for sido in range(1,len(sido_values)+1):\n",
    "    element = driver.find_element_by_id('cityCode')\n",
    "    element.send_keys(sido_names_values[sido])\n",
    "    time.sleep(1)\n",
    "    \n",
    "    #선거구\n",
    "    electarea_list_raw = driver.find_element_by_xpath(\"\"\"//*[@id=\"sggCityCode\"]\"\"\")\n",
    "    electarea_list = electarea_list_raw.find_elements_by_tag_name('option')\n",
    "    electarea_values = [option.text for option in electarea_list]\n",
    "    electarea_values = electarea_values[1:]\n",
    "    \n",
    "    for electarea in range(0,len(electarea_values)):\n",
    "        element = driver.find_element_by_id('sggCityCode')\n",
    "        element.send_keys(electarea_values[electarea])\n",
    "        time.sleep(1)\n",
    "        \n",
    "        #시군구\n",
    "        sigungu_list_raw = driver.find_element_by_xpath(\"\"\"//*[@id=\"townCodeFromSgg\"]\"\"\")\n",
    "        sigungu_list = sigungu_list_raw.find_elements_by_tag_name('option')\n",
    "        sigungu_values = [option.text for option in sigungu_list]\n",
    "        sigungu_values = sigungu_values[1]\n",
    "        sigungu_values\n",
    "\n",
    "        element = driver.find_element_by_id('townCodeFromSgg')\n",
    "        element.send_keys(sigungu_values)\n",
    "        \n",
    "        #검색\n",
    "        driver.find_element_by_xpath(\"\"\"//*[@id=\"spanSubmit\"]/input\"\"\").click()\n",
    "        time.sleep(1)\n",
    "        \n",
    "        export_data()\n",
    "\n",
    "print('Done :', sido, end='/')        "
   ]
  },
  {
   "cell_type": "code",
   "execution_count": 148,
   "metadata": {},
   "outputs": [],
   "source": [
    "file_list = glob.glob('/Users/hyungkeun/Desktop/21_congress/*.xlsx')"
   ]
  },
  {
   "cell_type": "code",
   "execution_count": 155,
   "metadata": {},
   "outputs": [
    {
     "name": "stdout",
     "output_type": "stream",
     "text": [
      "Done:  1 /Done:  2 /Done:  3 /Done:  4 /Done:  5 /Done:  6 /Done:  7 /Done:  8 /Done:  9 /Done:  10 /Done:  11 /Done:  12 /Done:  13 /Done:  14 /Done:  15 /Done:  16 /Done:  17 /Done:  18 /Done:  19 /Done:  20 /Done:  21 /Done:  22 /Done:  23 /Done:  24 /Done:  25 /Done:  26 /Done:  27 /Done:  28 /Done:  29 /Done:  30 /Done:  31 /Done:  32 /Done:  33 /Done:  34 /Done:  35 /Done:  36 /Done:  37 /Done:  38 /Done:  39 /Done:  40 /Done:  41 /Done:  42 /Done:  43 /Done:  44 /Done:  45 /Done:  46 /Done:  47 /Done:  48 /Done:  49 /Done:  50 /Done:  51 /Done:  52 /Done:  53 /Done:  54 /Done:  55 /Done:  56 /Done:  57 /Done:  58 /Done:  59 /Done:  60 /Done:  61 /Done:  62 /Done:  63 /Done:  64 /Done:  65 /Done:  66 /Done:  67 /Done:  68 /Done:  69 /Done:  70 /Done:  71 /Done:  72 /Done:  73 /Done:  74 /Done:  75 /Done:  76 /Done:  77 /Done:  78 /Done:  79 /Done:  80 /Done:  81 /Done:  82 /Done:  83 /Done:  84 /Done:  85 /Done:  86 /Done:  87 /Done:  88 /Done:  89 /Done:  90 /Done:  91 /Done:  92 /Done:  93 /Done:  94 /Done:  95 /Done:  96 /Done:  97 /Done:  98 /Done:  99 /Done:  100 /Done:  101 /Done:  102 /Done:  103 /Done:  104 /Done:  105 /Done:  106 /Done:  107 /Done:  108 /Done:  109 /Done:  110 /Done:  111 /Done:  112 /Done:  113 /Done:  114 /Done:  115 /Done:  116 /Done:  117 /Done:  118 /Done:  119 /Done:  120 /Done:  121 /Done:  122 /Done:  123 /Done:  124 /Done:  125 /Done:  126 /Done:  127 /Done:  128 /Done:  129 /Done:  130 /Done:  131 /Done:  132 /Done:  133 /Done:  134 /Done:  135 /Done:  136 /Done:  137 /Done:  138 /Done:  139 /Done:  140 /Done:  141 /Done:  142 /Done:  143 /Done:  144 /Done:  145 /Done:  146 /Done:  147 /Done:  148 /Done:  149 /Done:  150 /Done:  151 /Done:  152 /Done:  153 /Done:  154 /Done:  155 /Done:  156 /Done:  157 /Done:  158 /Done:  159 /Done:  160 /Done:  161 /Done:  162 /Done:  163 /Done:  164 /Done:  165 /Done:  166 /Done:  167 /Done:  168 /Done:  169 /Done:  170 /Done:  171 /Done:  172 /Done:  173 /Done:  174 /Done:  175 /Done:  176 /Done:  177 /Done:  178 /Done:  179 /Done:  180 /Done:  181 /Done:  182 /Done:  183 /Done:  184 /Done:  185 /Done:  186 /Done:  187 /Done:  188 /Done:  189 /Done:  190 /Done:  191 /Done:  192 /Done:  193 /Done:  194 /Done:  195 /Done:  196 /Done:  197 /Done:  198 /Done:  199 /Done:  200 /Done:  201 /Done:  202 /Done:  203 /Done:  204 /Done:  205 /Done:  206 /Done:  207 /Done:  208 /Done:  209 /Done:  210 /Done:  211 /Done:  212 /Done:  213 /Done:  214 /Done:  215 /Done:  216 /Done:  217 /Done:  218 /Done:  219 /Done:  220 /Done:  221 /Done:  222 /Done:  223 /Done:  224 /Done:  225 /Done:  226 /Done:  227 /Done:  228 /Done:  229 /Done:  230 /Done:  231 /Done:  232 /Done:  233 /Done:  234 /Done:  235 /Done:  236 /Done:  237 /Done:  238 /Done:  239 /Done:  240 /Done:  241 /Done:  242 /Done:  243 /Done:  244 /Done:  245 /Done:  246 /Done:  247 /Done:  248 /Done:  249 /Done:  250 /Done:  251 /Done:  252 /Done:  253 /"
     ]
    }
   ],
   "source": [
    "df_prc_list = []\n",
    "column_names = ['vote_type','region1','region2_type','region2','region3','voteplace','num_electors','num_votes',\n",
    " 'candi_01','candi_02','candi_03','candi_04','candi_05','candi_06','candi_07','candi_08','candi_09','candi_10','candi_11','candi_12',\n",
    " 'candi_13','candi_14','candi_15','candi_16','candi_17','candi_18','candi_19','candi_20','candi_21','tot_candi','invalid','abstention']\n",
    "mynum = 1\n",
    "\n",
    "for file in file_list:\n",
    "    #Load\n",
    "    df_raw = pd.read_excel(file)\n",
    "    \n",
    "    #앞부분\n",
    "    df_raw_head = df_raw.iloc[:,0:8].copy()\n",
    "\n",
    "    #마지막\n",
    "    df_raw_tail = df_raw.iloc[:,-3:].copy()\n",
    "\n",
    "    #후보자\n",
    "    df_raw_candi = df_raw.iloc[:,8:-3].copy()\n",
    "    \n",
    "    #선거구마다 컬럼개수를 맞추기 위해 컬럼 추가\n",
    "    new_colnames = []\n",
    "    num = 21 - df_raw_candi.shape[1]\n",
    "\n",
    "    for i in range(1,num+1):\n",
    "        name = 'New'+str(i)\n",
    "        new_colnames.append(name)\n",
    "\n",
    "    for name in new_colnames:\n",
    "        df_raw_candi.loc[:,name] = 0\n",
    "    \n",
    "    #병합\n",
    "    df_prc = pd.concat([df_raw_head, df_raw_candi, df_raw_tail], axis=1)\n",
    "    \n",
    "    #컬럼명 업데이트\n",
    "    df_prc.columns = column_names\n",
    "    \n",
    "    df_prc_list.append(df_prc)\n",
    "\n",
    "    #print('Done: ',mynum,end=' /')\n",
    "    #mynum += 1"
   ]
  },
  {
   "cell_type": "code",
   "execution_count": 156,
   "metadata": {},
   "outputs": [],
   "source": [
    "#병합\n",
    "df = pd.concat(df_prc_list)\n",
    "df = df.reset_index(drop=True)"
   ]
  },
  {
   "cell_type": "code",
   "execution_count": 159,
   "metadata": {},
   "outputs": [],
   "source": [
    "# #Export\n",
    "# df.to_excel('/Users/hyungkeun/Desktop/21대국회의원_득표율.xlsx', index=False)"
   ]
  },
  {
   "cell_type": "code",
   "execution_count": null,
   "metadata": {},
   "outputs": [],
   "source": []
  }
 ],
 "metadata": {
  "kernelspec": {
   "display_name": "Python 3",
   "language": "python",
   "name": "python3"
  },
  "language_info": {
   "codemirror_mode": {
    "name": "ipython",
    "version": 3
   },
   "file_extension": ".py",
   "mimetype": "text/x-python",
   "name": "python",
   "nbconvert_exporter": "python",
   "pygments_lexer": "ipython3",
   "version": "3.7.4"
  }
 },
 "nbformat": 4,
 "nbformat_minor": 4
}
