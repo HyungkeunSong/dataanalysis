{
 "cells": [
  {
   "cell_type": "markdown",
   "metadata": {},
   "source": [
    "## Numpy를 사용한 기초 선형대수"
   ]
  },
  {
   "cell_type": "markdown",
   "metadata": {},
   "source": [
    "과제링크\n",
    "https://github.com/TEAMLAB-Lecture/AI-python-connect/tree/master/lab_assignments/lab_1"
   ]
  },
  {
   "cell_type": "code",
   "execution_count": 1,
   "metadata": {},
   "outputs": [],
   "source": [
    "import numpy as np"
   ]
  },
  {
   "cell_type": "markdown",
   "metadata": {},
   "source": [
    "### Problem #1 - vector_size_check (one line code available)"
   ]
  },
  {
   "cell_type": "code",
   "execution_count": 2,
   "metadata": {},
   "outputs": [],
   "source": [
    "# vector 간 덧셈 또는 뺄셈 연산을 할 때, 연산이 가능한 사이즈인지를 확인하여 가능 여부를 True 또는 False로 반환함\n",
    "def vector_size_check(*vector_variables):\n",
    "    result = len(vector_variables) == len([v for v in vector_variables if len(v) == len(vector_variables[0])])\n",
    "    return result"
   ]
  },
  {
   "cell_type": "code",
   "execution_count": 207,
   "metadata": {},
   "outputs": [
    {
     "name": "stdout",
     "output_type": "stream",
     "text": [
      "True\n",
      "True\n",
      "False\n"
     ]
    }
   ],
   "source": [
    "# 실행결과\n",
    "print(vector_size_check([1,2,3], [2,3,4], [5,6,7])) # Expected value: True\n",
    "print(vector_size_check([1, 3], [2,4], [6,7])) # Expected value: True\n",
    "print(vector_size_check([1, 3, 4], [4], [6,7])) # Expected value: False"
   ]
  },
  {
   "cell_type": "code",
   "execution_count": 206,
   "metadata": {},
   "outputs": [],
   "source": [
    "# 강의\n",
    "def vector_size_check(*vector_variables):\n",
    "    return all(len(vector_variables[0]) == x for x in [len(vector) for vector in vector_variables[1:]])"
   ]
  },
  {
   "cell_type": "markdown",
   "metadata": {},
   "source": [
    "### Problem #2 - vector_addition (one line code available)"
   ]
  },
  {
   "cell_type": "code",
   "execution_count": 4,
   "metadata": {},
   "outputs": [],
   "source": [
    "# vector간 덧셈을 실행하여 결과를 반환함, 단 입력되는 vector의 갯수와 크기는 일정하지 않음\n",
    "def vector_addition(*vector_variables):\n",
    "    if vector_size_check(*vector_variables) == True:\n",
    "        result = [sum(v) for v in zip(*vector_variables)]\n",
    "    else:\n",
    "        result = 'ArithmeticError'\n",
    "    return result"
   ]
  },
  {
   "cell_type": "code",
   "execution_count": 5,
   "metadata": {},
   "outputs": [
    {
     "name": "stdout",
     "output_type": "stream",
     "text": [
      "[9, 14]\n",
      "[15, 16]\n",
      "ArithmeticError\n"
     ]
    }
   ],
   "source": [
    "# 실행결과\n",
    "print(vector_addition([1, 3], [2, 4], [6, 7])) # Expected value: [9, 14]\n",
    "print(vector_addition([1, 5], [10, 4], [4, 7])) # Expected value: [15, 16]\n",
    "print(vector_addition([1, 3, 4], [4], [6,7])) # Expected value: ArithmeticError"
   ]
  },
  {
   "cell_type": "markdown",
   "metadata": {},
   "source": [
    "### Problem #3 - vector_subtraction (one line code available)"
   ]
  },
  {
   "cell_type": "code",
   "execution_count": 6,
   "metadata": {},
   "outputs": [],
   "source": [
    "def vector_subtraction(*vector_variables):\n",
    "    if vector_size_check(*vector_variables) == True:\n",
    "        result = [v[0]-sum(v[1:]) for v in zip(*vector_variables)]\n",
    "    else:\n",
    "        result = 'ArithmeticError'\n",
    "    return result"
   ]
  },
  {
   "cell_type": "code",
   "execution_count": 7,
   "metadata": {},
   "outputs": [
    {
     "name": "stdout",
     "output_type": "stream",
     "text": [
      "[-1, -1]\n",
      "[-13, -6]\n"
     ]
    }
   ],
   "source": [
    "# 실행결과\n",
    "print(vector_subtraction([1, 3], [2, 4])) # Expected value: [-1, -1]\n",
    "print(vector_subtraction([1, 5], [10, 4], [4, 7])) # Expected value: [-13, -6]"
   ]
  },
  {
   "cell_type": "markdown",
   "metadata": {},
   "source": [
    "### Problem #4 - scalar_vector_product (one line code available)"
   ]
  },
  {
   "cell_type": "code",
   "execution_count": 8,
   "metadata": {},
   "outputs": [],
   "source": [
    "# 하나의 scalar 값을 vector에 곱함, 단 입력되는 vector의 크기는 일정하지 않음\n",
    "def scalar_vector_product(alpha, vector_variable):\n",
    "    result = [alpha*e for e in vector_variable]\n",
    "    return result"
   ]
  },
  {
   "cell_type": "code",
   "execution_count": 9,
   "metadata": {},
   "outputs": [
    {
     "name": "stdout",
     "output_type": "stream",
     "text": [
      "[5, 10, 15]\n",
      "[6, 6]\n",
      "[4]\n"
     ]
    }
   ],
   "source": [
    "# 실행결과\n",
    "print (scalar_vector_product(5,[1,2,3])) # Expected value: [5, 10, 15]\n",
    "print (scalar_vector_product(3,[2,2])) # Expected value: [6, 6]\n",
    "print (scalar_vector_product(4,[1])) # Expected value: [4]"
   ]
  },
  {
   "cell_type": "markdown",
   "metadata": {},
   "source": [
    "### Problem #5 - matrix_size_check (one line code available)"
   ]
  },
  {
   "cell_type": "code",
   "execution_count": 10,
   "metadata": {},
   "outputs": [],
   "source": [
    "# matrix 간 덧셈 또는 뺄셈 연산을 할 때, 연산이 가능한 사이즈인지를 확인하여 가능 여부를 True 또는 False로 반환함\n",
    "def matrix_size_check(*matrix_variables):\n",
    "    r_c = [[len(v), len(v[0])] for v in matrix_variables]\n",
    "    result = r_c[1:] == r_c[:-1]\n",
    "    return result"
   ]
  },
  {
   "cell_type": "code",
   "execution_count": 11,
   "metadata": {},
   "outputs": [
    {
     "name": "stdout",
     "output_type": "stream",
     "text": [
      "False\n",
      "True\n",
      "True\n"
     ]
    }
   ],
   "source": [
    "# 실행결과\n",
    "matrix_x = [[2, 2], [2, 2], [2, 2]]\n",
    "matrix_y = [[2, 5], [2, 1]]\n",
    "matrix_z = [[2, 4], [5, 3]]\n",
    "matrix_w = [[2, 5], [1, 1], [2, 2]]\n",
    "\n",
    "print (matrix_size_check(matrix_x, matrix_y, matrix_z)) # Expected value: False\n",
    "print (matrix_size_check(matrix_y, matrix_z)) # Expected value: True\n",
    "print (matrix_size_check(matrix_x, matrix_w)) # Expected value: True\n"
   ]
  },
  {
   "cell_type": "markdown",
   "metadata": {},
   "source": [
    "### Problem #6 - is_matrix_equal (one line code available)"
   ]
  },
  {
   "cell_type": "code",
   "execution_count": 29,
   "metadata": {},
   "outputs": [],
   "source": [
    "# 비교가 되는 n개의 matrix가 서로 동치인지 확인하여 True 또는 False를 반환함\n",
    "def is_matrix_equal(*matrix_variables):\n",
    "    tflist = [m==matrix_variables[0] for m in matrix_variables]\n",
    "    result = sum(tflist) == len(tflist)\n",
    "    return result"
   ]
  },
  {
   "cell_type": "code",
   "execution_count": 31,
   "metadata": {},
   "outputs": [
    {
     "name": "stdout",
     "output_type": "stream",
     "text": [
      "False\n",
      "True\n",
      "True\n"
     ]
    }
   ],
   "source": [
    "# 실행결과\n",
    "matrix_x = [[2, 2], [2, 2]]\n",
    "matrix_y = [[2, 5], [2, 1]]\n",
    "matrix_z = [[2, 2], [2, 2]]\n",
    "\n",
    "\n",
    "print(is_matrix_equal(matrix_x, matrix_y, matrix_y, matrix_y)) # Expected value: False\n",
    "print(is_matrix_equal(matrix_x, matrix_x)) # Expected value: True\n",
    "print(is_matrix_equal(matrix_x, matrix_z,matrix_x, matrix_z)) # Expected value: True"
   ]
  },
  {
   "cell_type": "markdown",
   "metadata": {},
   "source": [
    "### Problem #7 - matrix_addition (one line code available)"
   ]
  },
  {
   "cell_type": "code",
   "execution_count": 91,
   "metadata": {},
   "outputs": [],
   "source": [
    "# matrix간 덧셈을 실행하여 결과를 반환함, 단 입력되는 matrix의 갯수와 크기는 일정하지 않음\n",
    "def matrix_addition(*matrix_variables):\n",
    "    if matrix_size_check(*matrix_variables) == False:\n",
    "        raise ArithmeticError\n",
    "    else:\n",
    "        result = [[sum(vs) for vs in zip(*m)] for m in zip(*matrix_variables)]\n",
    "    return result"
   ]
  },
  {
   "cell_type": "code",
   "execution_count": 92,
   "metadata": {},
   "outputs": [
    {
     "name": "stdout",
     "output_type": "stream",
     "text": [
      "[[4, 7], [4, 3]]\n",
      "[[6, 11], [9, 6]]\n"
     ]
    }
   ],
   "source": [
    "# 실행결과\n",
    "matrix_x = [[2, 2], [2, 2]]\n",
    "matrix_y = [[2, 5], [2, 1]]\n",
    "matrix_z = [[2, 4], [5, 3]]\n",
    "\n",
    "print(matrix_addition(matrix_x, matrix_y)) # Expected value: [[4, 7], [4, 3]]\n",
    "print(matrix_addition(matrix_x, matrix_y, matrix_z)) # Expected value: [[6, 11], [9, 6]]"
   ]
  },
  {
   "cell_type": "markdown",
   "metadata": {},
   "source": [
    "### Problem #8 - matrix_subtraction (one line code available)"
   ]
  },
  {
   "cell_type": "code",
   "execution_count": 102,
   "metadata": {},
   "outputs": [],
   "source": [
    "# matrix간 뺄셈을 실행하여 결과를 반환함, 단 입력되는 matrix의 갯수와 크기는 일정하지 않음\n",
    "def matrix_subtraction(*matrix_variables):\n",
    "    if matrix_size_check(*matrix_variables) == False:\n",
    "        raise ArithmeticError\n",
    "    else:\n",
    "        result = [[vs[0]-sum(vs[1:]) for vs in zip(*m)] for m in zip(*matrix_variables)]\n",
    "    return result"
   ]
  },
  {
   "cell_type": "code",
   "execution_count": 101,
   "metadata": {},
   "outputs": [
    {
     "name": "stdout",
     "output_type": "stream",
     "text": [
      "[[0, -3], [0, 1]]\n",
      "[[-2, -7], [-5, -2]]\n"
     ]
    }
   ],
   "source": [
    "# 실행결과\n",
    "matrix_x = [[2, 2], [2, 2]]\n",
    "matrix_y = [[2, 5], [2, 1]]\n",
    "matrix_z = [[2, 4], [5, 3]]\n",
    "\n",
    "print(matrix_subtraction(matrix_x, matrix_y)) # Expected value: [[0, -3], [0, 1]]\n",
    "print(matrix_subtraction(matrix_x, matrix_y, matrix_z)) # Expected value: [[-2, -7], [-5, -2]]"
   ]
  },
  {
   "cell_type": "markdown",
   "metadata": {},
   "source": [
    "### Problem #9 - matrix_transpose (one line code available)"
   ]
  },
  {
   "cell_type": "code",
   "execution_count": 110,
   "metadata": {},
   "outputs": [],
   "source": [
    "# matrix의 역행렬을 구하여 결과를 반환함, 단 입력되는 matrix의 크기는 일정하지 않음\n",
    "def matrix_transpose(matrix_variable):\n",
    "    result = list(zip(*matrix_variable))\n",
    "    return result"
   ]
  },
  {
   "cell_type": "code",
   "execution_count": 111,
   "metadata": {},
   "outputs": [
    {
     "data": {
      "text/plain": [
       "[(2, 1, 2), (5, 1, 2)]"
      ]
     },
     "execution_count": 111,
     "metadata": {},
     "output_type": "execute_result"
    }
   ],
   "source": [
    "# 실행결과\n",
    "matrix_w = [[2, 5], [1, 1], [2, 2]]\n",
    "matrix_transpose(matrix_w)"
   ]
  },
  {
   "cell_type": "markdown",
   "metadata": {},
   "source": [
    "### Problem #10 - scalar_matrix_product (one line code available)"
   ]
  },
  {
   "cell_type": "code",
   "execution_count": 122,
   "metadata": {},
   "outputs": [],
   "source": [
    "# 하나의 scalar 값을 matrix에 곱함, 단 입력되는 matrix의 크기는 일정하지 않음\n",
    "def scalar_matrix_product(alpha, matrix_variable):\n",
    "    result = [[alpha*e for e in v] for v in matrix_variable]\n",
    "    return result"
   ]
  },
  {
   "cell_type": "code",
   "execution_count": 119,
   "metadata": {},
   "outputs": [
    {
     "name": "stdout",
     "output_type": "stream",
     "text": [
      "[[6, 6], [6, 6], [6, 6]]\n",
      "[[4, 10], [4, 2]]\n",
      "[[8, 16], [20, 12]]\n",
      "[[6, 15], [3, 3], [6, 6]]\n"
     ]
    }
   ],
   "source": [
    "# 실행결과\n",
    "matrix_x = [[2, 2], [2, 2], [2, 2]]\n",
    "matrix_y = [[2, 5], [2, 1]]\n",
    "matrix_z = [[2, 4], [5, 3]]\n",
    "matrix_w = [[2, 5], [1, 1], [2, 2]]\n",
    "\n",
    "print(scalar_matrix_product(3, matrix_x)) #Expected value: [[6, 6], [6, 6], [6, 6]]\n",
    "print(scalar_matrix_product(2, matrix_y)) #Expected value: [[4, 10], [4, 2]]\n",
    "print(scalar_matrix_product(4, matrix_z)) #Expected value: [[8, 16], [20, 12]]\n",
    "print(scalar_matrix_product(3, matrix_w)) #Expected value: [[6, 15], [3, 3], [6, 6]]"
   ]
  },
  {
   "cell_type": "markdown",
   "metadata": {},
   "source": [
    "### Problem #11 - is_product_availability_matrix (one line code available)"
   ]
  },
  {
   "cell_type": "code",
   "execution_count": 134,
   "metadata": {},
   "outputs": [],
   "source": [
    "# 두 개의 matrix가 입력 되었을 경우, 두 matrix의 곱셈 연산의 가능 여부를 True 또는 False로 반환함\n",
    "def is_product_availability_matrix(matrix_a, matrix_b):\n",
    "    a_r, a_c = len(matrix_a), len(matrix_a[0])\n",
    "    b_r, b_c = len(matrix_b), len(matrix_b[0])\n",
    "    result = a_c == b_r\n",
    "    return result"
   ]
  },
  {
   "cell_type": "code",
   "execution_count": 135,
   "metadata": {},
   "outputs": [
    {
     "name": "stdout",
     "output_type": "stream",
     "text": [
      "True\n",
      "True\n",
      "False\n",
      "True\n"
     ]
    }
   ],
   "source": [
    "# 실행결과\n",
    "matrix_x= [[2, 5], [1, 1]]\n",
    "matrix_y = [[1, 1, 2], [2, 1, 1]]\n",
    "matrix_z = [[2, 4], [5, 3], [1, 3]]\n",
    "\n",
    "print(is_product_availability_matrix(matrix_y, matrix_z)) # Expected value: True\n",
    "print(is_product_availability_matrix(matrix_z, matrix_x)) # Expected value: True\n",
    "print(is_product_availability_matrix(matrix_z, matrix_w)) # Expected value: False //matrix_w가없습니다\n",
    "print(is_product_availability_matrix(matrix_x, matrix_x)) # Expected value: True\n"
   ]
  },
  {
   "cell_type": "markdown",
   "metadata": {},
   "source": [
    "### Problem #12 - matrix_product (one line code available)"
   ]
  },
  {
   "cell_type": "code",
   "execution_count": 202,
   "metadata": {},
   "outputs": [],
   "source": [
    "# 곱셈 연산이 가능한 두 개의 matrix의 곱셈을 실행하여 반환함\n",
    "def matrix_product(matrix_a, matrix_b):\n",
    "    if is_product_availability_matrix(matrix_a, matrix_b) == True:\n",
    "        m_list=[]\n",
    "        for va in matrix_a:\n",
    "            v_list = []\n",
    "            for vb in list(zip(*matrix_b)):\n",
    "                mylist= []\n",
    "                for i in range(len(va)):\n",
    "                    mylist.append(va[i]*vb[i])\n",
    "                a=sum(mylist)\n",
    "                v_list.append(a)\n",
    "            m_list.append(v_list)\n",
    "        result = m_list\n",
    "\n",
    "    else:\n",
    "        result = False\n",
    "    return result"
   ]
  },
  {
   "cell_type": "code",
   "execution_count": 203,
   "metadata": {},
   "outputs": [
    {
     "name": "stdout",
     "output_type": "stream",
     "text": [
      "[[9, 13], [10, 14]]\n",
      "[[8, 14], [13, 28], [5, 8]]\n",
      "[[9, 15], [3, 6]]\n",
      "False\n"
     ]
    }
   ],
   "source": [
    "# 실행결과\n",
    "matrix_x= [[2, 5], [1, 1]]\n",
    "matrix_y = [[1, 1, 2], [2, 1, 1]]\n",
    "matrix_z = [[2, 4], [5, 3], [1, 3]]\n",
    "\n",
    "print(matrix_product(matrix_y, matrix_z)) # Expected value: [[9, 13], [10, 14]]\n",
    "print(matrix_product(matrix_z, matrix_x)) # Expected value: [[8, 14], [13, 28], [5, 8]]\n",
    "print(matrix_product(matrix_x, matrix_x)) # Expected value: [[9, 15], [3, 6]]\n",
    "print(matrix_product(matrix_z, matrix_w)) # Expected value: False"
   ]
  },
  {
   "cell_type": "code",
   "execution_count": null,
   "metadata": {},
   "outputs": [],
   "source": []
  }
 ],
 "metadata": {
  "kernelspec": {
   "display_name": "Python 3",
   "language": "python",
   "name": "python3"
  },
  "language_info": {
   "codemirror_mode": {
    "name": "ipython",
    "version": 3
   },
   "file_extension": ".py",
   "mimetype": "text/x-python",
   "name": "python",
   "nbconvert_exporter": "python",
   "pygments_lexer": "ipython3",
   "version": "3.7.4"
  }
 },
 "nbformat": 4,
 "nbformat_minor": 4
}
