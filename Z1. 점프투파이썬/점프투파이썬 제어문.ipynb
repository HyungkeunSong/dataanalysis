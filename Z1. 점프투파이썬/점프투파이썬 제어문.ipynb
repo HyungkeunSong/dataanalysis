{
 "cells": [
  {
   "cell_type": "code",
   "execution_count": 2,
   "metadata": {},
   "outputs": [
    {
     "name": "stdout",
     "output_type": "stream",
     "text": [
      "걸어 가라\n"
     ]
    }
   ],
   "source": [
    "money = 0\n",
    "\n",
    "if money:\n",
    "    print(\"택시를 타고 가라\")\n",
    "else:\n",
    "    print(\"걸어 가라\")"
   ]
  },
  {
   "cell_type": "code",
   "execution_count": 3,
   "metadata": {},
   "outputs": [
    {
     "name": "stdout",
     "output_type": "stream",
     "text": [
      "택시를\n",
      "타자\n"
     ]
    }
   ],
   "source": [
    "money = 1\n",
    "if money:\n",
    "    print(\"택시를\")\n",
    "    print(\"타자\")"
   ]
  },
  {
   "cell_type": "code",
   "execution_count": 5,
   "metadata": {},
   "outputs": [
    {
     "name": "stdout",
     "output_type": "stream",
     "text": [
      "걸어가라\n"
     ]
    }
   ],
   "source": [
    "money = 1500\n",
    "\n",
    "if money >= 3000:\n",
    "    print(\"택시를 타고 가라\")\n",
    "else:\n",
    "    print(\"걸어가라\")"
   ]
  },
  {
   "cell_type": "code",
   "execution_count": 6,
   "metadata": {},
   "outputs": [
    {
     "name": "stdout",
     "output_type": "stream",
     "text": [
      "Take a taxi\n"
     ]
    }
   ],
   "source": [
    "money = 2000\n",
    "card = 1\n",
    "\n",
    "if money >= 3000 or card:\n",
    "    print(\"Take a taxi\")\n",
    "else:\n",
    "    print(\"Take a walk\")"
   ]
  },
  {
   "cell_type": "code",
   "execution_count": 7,
   "metadata": {},
   "outputs": [
    {
     "data": {
      "text/plain": [
       "True"
      ]
     },
     "execution_count": 7,
     "metadata": {},
     "output_type": "execute_result"
    }
   ],
   "source": [
    "1 in [1,2,3]"
   ]
  },
  {
   "cell_type": "code",
   "execution_count": 8,
   "metadata": {},
   "outputs": [
    {
     "data": {
      "text/plain": [
       "False"
      ]
     },
     "execution_count": 8,
     "metadata": {},
     "output_type": "execute_result"
    }
   ],
   "source": [
    "4 in [1,2,3]"
   ]
  },
  {
   "cell_type": "code",
   "execution_count": 13,
   "metadata": {},
   "outputs": [
    {
     "name": "stdout",
     "output_type": "stream",
     "text": [
      "Take a taxi\n"
     ]
    }
   ],
   "source": [
    "pocket = ['paper', 'cellphone', 'money']\n",
    "\n",
    "if 'money' in pocket:\n",
    "    print(\"Take a taxi\")\n",
    "else:\n",
    "    print(\"Walk\")"
   ]
  },
  {
   "cell_type": "code",
   "execution_count": 14,
   "metadata": {},
   "outputs": [],
   "source": [
    "if 'money' in pocket:\n",
    "    pass\n",
    "else:\n",
    "    print(\"Show me your card\")"
   ]
  },
  {
   "cell_type": "code",
   "execution_count": 17,
   "metadata": {},
   "outputs": [
    {
     "name": "stdout",
     "output_type": "stream",
     "text": [
      "Taxi\n"
     ]
    }
   ],
   "source": [
    "pocket = ['paper', 'cellphone']\n",
    "card = 1\n",
    "\n",
    "if 'money' in pocket:\n",
    "    print(\"Taxi\")\n",
    "elif card:\n",
    "    print(\"Taxi\")\n",
    "else:\n",
    "    print(\"Walk\")"
   ]
  },
  {
   "cell_type": "code",
   "execution_count": 19,
   "metadata": {},
   "outputs": [
    {
     "name": "stdout",
     "output_type": "stream",
     "text": [
      "나무를 1번 찍었습니다.\n",
      "나무를 2번 찍었습니다.\n",
      "나무를 3번 찍었습니다.\n",
      "나무를 4번 찍었습니다.\n",
      "나무를 5번 찍었습니다.\n",
      "나무를 6번 찍었습니다.\n",
      "나무를 7번 찍었습니다.\n",
      "나무를 8번 찍었습니다.\n",
      "나무를 9번 찍었습니다.\n",
      "나무를 10번 찍었습니다.\n",
      "나무 넘어갑니다\n"
     ]
    }
   ],
   "source": [
    "treeHit = 0\n",
    "\n",
    "while treeHit < 10:\n",
    "    treeHit = treeHit+1\n",
    "    print(\"나무를 %d번 찍었습니다.\"%treeHit)\n",
    "    \n",
    "    if treeHit == 10:\n",
    "        print(\"나무 넘어갑니다\")\n"
   ]
  },
  {
   "cell_type": "code",
   "execution_count": 20,
   "metadata": {},
   "outputs": [],
   "source": [
    "prompt = \"\"\"\n",
    "    1. Add\n",
    "    2. Del\n",
    "    3. List\n",
    "    4. Quit\n",
    "\n",
    "    Enter Number: \"\"\""
   ]
  },
  {
   "cell_type": "code",
   "execution_count": 22,
   "metadata": {},
   "outputs": [
    {
     "name": "stdout",
     "output_type": "stream",
     "text": [
      "\n",
      "    1. Add\n",
      "    2. Del\n",
      "    3. List\n",
      "    4. Quit\n",
      "\n",
      "    Enter Number: \n",
      "5\n",
      "\n",
      "    1. Add\n",
      "    2. Del\n",
      "    3. List\n",
      "    4. Quit\n",
      "\n",
      "    Enter Number: \n",
      "1\n",
      "\n",
      "    1. Add\n",
      "    2. Del\n",
      "    3. List\n",
      "    4. Quit\n",
      "\n",
      "    Enter Number: \n",
      "2\n",
      "\n",
      "    1. Add\n",
      "    2. Del\n",
      "    3. List\n",
      "    4. Quit\n",
      "\n",
      "    Enter Number: \n",
      "3\n",
      "\n",
      "    1. Add\n",
      "    2. Del\n",
      "    3. List\n",
      "    4. Quit\n",
      "\n",
      "    Enter Number: \n",
      "4\n"
     ]
    }
   ],
   "source": [
    "number = 0\n",
    "\n",
    "while number != 4:\n",
    "    print(prompt)\n",
    "    number = int(input())\n",
    "    "
   ]
  },
  {
   "cell_type": "code",
   "execution_count": 23,
   "metadata": {},
   "outputs": [
    {
     "name": "stdout",
     "output_type": "stream",
     "text": [
      "돈을 받았으니 커피를 줍니다\n",
      "남은 커피의 양은 9입니다\n",
      "돈을 받았으니 커피를 줍니다\n",
      "남은 커피의 양은 8입니다\n",
      "돈을 받았으니 커피를 줍니다\n",
      "남은 커피의 양은 7입니다\n",
      "돈을 받았으니 커피를 줍니다\n",
      "남은 커피의 양은 6입니다\n",
      "돈을 받았으니 커피를 줍니다\n",
      "남은 커피의 양은 5입니다\n",
      "돈을 받았으니 커피를 줍니다\n",
      "남은 커피의 양은 4입니다\n",
      "돈을 받았으니 커피를 줍니다\n",
      "남은 커피의 양은 3입니다\n",
      "돈을 받았으니 커피를 줍니다\n",
      "남은 커피의 양은 2입니다\n",
      "돈을 받았으니 커피를 줍니다\n",
      "남은 커피의 양은 1입니다\n",
      "돈을 받았으니 커피를 줍니다\n",
      "남은 커피의 양은 0입니다\n",
      "out of stock\n"
     ]
    }
   ],
   "source": [
    "coffe = 10\n",
    "money = 300\n",
    "\n",
    "while money:\n",
    "    print(\"돈을 받았으니 커피를 줍니다\")\n",
    "    coffe = coffe-1\n",
    "    print(\"남은 커피의 양은 %d입니다\"%coffe)\n",
    "    if not coffe:\n",
    "        print(\"out of stock\")\n",
    "        break"
   ]
  },
  {
   "cell_type": "code",
   "execution_count": 28,
   "metadata": {},
   "outputs": [
    {
     "name": "stdout",
     "output_type": "stream",
     "text": [
      "돈을 넣어 주세요:300\n",
      "돈을 받았으니 커피를 줍니다\n",
      "남은 커피의 양은 9입니다.\n",
      "돈을 넣어 주세요:200\n",
      "돈을 돌려주고 커피를 주지 않습니다\n",
      "남은 커피의 양은 9입니다.\n",
      "돈을 넣어 주세요:500\n",
      "거스름돈 200를 주고 커피를 줍니다\n",
      "남은 커피의 양은 8입니다.\n",
      "돈을 넣어 주세요:300\n",
      "돈을 받았으니 커피를 줍니다\n",
      "남은 커피의 양은 7입니다.\n",
      "돈을 넣어 주세요:340\n",
      "거스름돈 40를 주고 커피를 줍니다\n",
      "남은 커피의 양은 6입니다.\n",
      "돈을 넣어 주세요:20\n",
      "돈을 돌려주고 커피를 주지 않습니다\n",
      "남은 커피의 양은 6입니다.\n",
      "돈을 넣어 주세요:30\n",
      "돈을 돌려주고 커피를 주지 않습니다\n",
      "남은 커피의 양은 6입니다.\n",
      "돈을 넣어 주세요:10\n",
      "돈을 돌려주고 커피를 주지 않습니다\n",
      "남은 커피의 양은 6입니다.\n",
      "돈을 넣어 주세요:500\n",
      "거스름돈 200를 주고 커피를 줍니다\n",
      "남은 커피의 양은 5입니다.\n",
      "돈을 넣어 주세요:10232\n",
      "거스름돈 9932를 주고 커피를 줍니다\n",
      "남은 커피의 양은 4입니다.\n",
      "돈을 넣어 주세요:23231\n",
      "거스름돈 22931를 주고 커피를 줍니다\n",
      "남은 커피의 양은 3입니다.\n",
      "돈을 넣어 주세요:22\n",
      "돈을 돌려주고 커피를 주지 않습니다\n",
      "남은 커피의 양은 3입니다.\n",
      "돈을 넣어 주세요:23421\n",
      "거스름돈 23121를 주고 커피를 줍니다\n",
      "남은 커피의 양은 2입니다.\n",
      "돈을 넣어 주세요:300\n",
      "돈을 받았으니 커피를 줍니다\n",
      "남은 커피의 양은 1입니다.\n",
      "돈을 넣어 주세요:21312\n",
      "거스름돈 21012를 주고 커피를 줍니다\n",
      "남은 커피의 양은 0입니다.\n",
      "out of stock. we stop selling\n"
     ]
    }
   ],
   "source": [
    "coffe = 10\n",
    "\n",
    "while True:\n",
    "    money = int(input(\"돈을 넣어 주세요:\"))\n",
    "    \n",
    "    if money == 300:\n",
    "        print(\"돈을 받았으니 커피를 줍니다\")\n",
    "        coffe = coffe-1\n",
    "        print(\"남은 커피의 양은 %d입니다.\"%coffe)\n",
    "    elif money > 300:\n",
    "        print(\"거스름돈 %d를 주고 커피를 줍니다\"%(money-300))\n",
    "        coffe = coffe-1\n",
    "        print(\"남은 커피의 양은 %d입니다.\"%coffe)\n",
    "    else:\n",
    "        print(\"돈을 돌려주고 커피를 주지 않습니다\")\n",
    "        print(\"남은 커피의 양은 %d입니다.\"%coffe)\n",
    "    \n",
    "    if not coffe:\n",
    "        print(\"out of stock. we stop selling\")\n",
    "        break"
   ]
  },
  {
   "cell_type": "code",
   "execution_count": 29,
   "metadata": {},
   "outputs": [
    {
     "name": "stdout",
     "output_type": "stream",
     "text": [
      "1\n",
      "3\n",
      "5\n",
      "7\n",
      "9\n"
     ]
    }
   ],
   "source": [
    "a = 0\n",
    "\n",
    "while a < 10:\n",
    "    a = a+1\n",
    "    if a%2 == 0: continue\n",
    "    print(a)"
   ]
  },
  {
   "cell_type": "code",
   "execution_count": 30,
   "metadata": {},
   "outputs": [
    {
     "name": "stdout",
     "output_type": "stream",
     "text": [
      "one\n",
      "two\n",
      "three\n"
     ]
    }
   ],
   "source": [
    "test_list = ['one','two','three']\n",
    "\n",
    "for i in test_list:\n",
    "    print(i)"
   ]
  },
  {
   "cell_type": "code",
   "execution_count": 33,
   "metadata": {},
   "outputs": [
    {
     "name": "stdout",
     "output_type": "stream",
     "text": [
      "3\n",
      "7\n",
      "11\n"
     ]
    }
   ],
   "source": [
    "a = [(1,2),(3,4),(5,6)]\n",
    "\n",
    "for (first,second) in a:\n",
    "    print(first+second)"
   ]
  },
  {
   "cell_type": "code",
   "execution_count": 36,
   "metadata": {},
   "outputs": [
    {
     "name": "stdout",
     "output_type": "stream",
     "text": [
      "1번 학생은 pass\n",
      "2번 학생은 not pass\n",
      "3번 학생은 pass\n",
      "4번 학생은 not pass\n",
      "5번 학생은 pass\n"
     ]
    }
   ],
   "source": [
    "marks = [90,25,67,45,80]\n",
    "number = 0\n",
    "\n",
    "for mark in marks:\n",
    "    number = number+1\n",
    "    if mark > 60:\n",
    "        print(\"%d번 학생은 pass\"%number)\n",
    "    else:\n",
    "        print(\"%d번 학생은 not pass\"%number)"
   ]
  },
  {
   "cell_type": "code",
   "execution_count": 41,
   "metadata": {},
   "outputs": [
    {
     "name": "stdout",
     "output_type": "stream",
     "text": [
      "Student1, Big Congrats\n",
      "Student3, Big Congrats\n",
      "Student5, Big Congrats\n"
     ]
    }
   ],
   "source": [
    "marks = [90,25,67,45,80]\n",
    "number = 0\n",
    "\n",
    "for mark in marks:\n",
    "    number = number + 1\n",
    "    if mark < 60:\n",
    "        pass\n",
    "    else:\n",
    "        print(\"Student%d, Big Congrats\"%number)"
   ]
  },
  {
   "cell_type": "code",
   "execution_count": 2,
   "metadata": {},
   "outputs": [
    {
     "data": {
      "text/plain": [
       "90"
      ]
     },
     "execution_count": 2,
     "metadata": {},
     "output_type": "execute_result"
    }
   ],
   "source": [
    "marks = [90,25,67,45,80]\n",
    "marks[0]"
   ]
  },
  {
   "cell_type": "code",
   "execution_count": 4,
   "metadata": {},
   "outputs": [
    {
     "name": "stdout",
     "output_type": "stream",
     "text": [
      "Student1: pass\n",
      "Student2: fail\n",
      "Student3: pass\n",
      "Student4: fail\n",
      "Student5: pass\n"
     ]
    }
   ],
   "source": [
    "marks = [90,25,67,45,80]\n",
    "number = 0\n",
    "\n",
    "for mark in marks:\n",
    "    number = number+1\n",
    "    if mark > 60:\n",
    "        print(\"Student%d: pass\"%number)\n",
    "    else:\n",
    "        print(\"Student%d: fail\"%number)\n"
   ]
  },
  {
   "cell_type": "code",
   "execution_count": 5,
   "metadata": {},
   "outputs": [
    {
     "name": "stdout",
     "output_type": "stream",
     "text": [
      "Student1: You passed! Congrats!\n",
      "Student3: You passed! Congrats!\n",
      "Student5: You passed! Congrats!\n"
     ]
    }
   ],
   "source": [
    "marks = [90,25,67,45,80]\n",
    "number = 0\n",
    "\n",
    "for mark in marks:\n",
    "    number = number+1\n",
    "    if mark > 60:\n",
    "        print(\"Student%d: You passed! Congrats!\"%number)\n",
    "    else:\n",
    "        continue\n"
   ]
  },
  {
   "cell_type": "code",
   "execution_count": 8,
   "metadata": {},
   "outputs": [
    {
     "data": {
      "text/plain": [
       "range(0, 10)"
      ]
     },
     "execution_count": 8,
     "metadata": {},
     "output_type": "execute_result"
    }
   ],
   "source": [
    "a = range(10)\n",
    "a"
   ]
  },
  {
   "cell_type": "code",
   "execution_count": 11,
   "metadata": {},
   "outputs": [
    {
     "name": "stdout",
     "output_type": "stream",
     "text": [
      "55\n"
     ]
    }
   ],
   "source": [
    "sum = 0\n",
    "for i in range(1,11):\n",
    "    sum = sum + i\n",
    "\n",
    "print(sum)"
   ]
  },
  {
   "cell_type": "code",
   "execution_count": 13,
   "metadata": {},
   "outputs": [
    {
     "name": "stdout",
     "output_type": "stream",
     "text": [
      "Student 1: passed\n",
      "Student 1: passed\n",
      "Student 1: passed\n",
      "Student 2: passed\n",
      "Student 2: passed\n",
      "Student 2: passed\n",
      "Student 3: passed\n",
      "Student 3: passed\n",
      "Student 3: passed\n",
      "Student 4: passed\n",
      "Student 4: passed\n",
      "Student 4: passed\n",
      "Student 5: passed\n",
      "Student 5: passed\n",
      "Student 5: passed\n"
     ]
    }
   ],
   "source": [
    "#my code\n",
    "marks = [90,25,67,45,80]\n",
    "\n",
    "for num in range(1,6):\n",
    "    for mark in marks:\n",
    "        if mark > 60:\n",
    "            print(\"Student %d: passed\"%num)\n",
    "        else:\n",
    "            continue"
   ]
  },
  {
   "cell_type": "code",
   "execution_count": 14,
   "metadata": {},
   "outputs": [
    {
     "data": {
      "text/plain": [
       "5"
      ]
     },
     "execution_count": 14,
     "metadata": {},
     "output_type": "execute_result"
    }
   ],
   "source": [
    "marks = [90,25,67,45,80]\n",
    "len(marks)"
   ]
  },
  {
   "cell_type": "code",
   "execution_count": 17,
   "metadata": {},
   "outputs": [
    {
     "name": "stdout",
     "output_type": "stream",
     "text": [
      "Student 1 : passed\n",
      "Student 3 : passed\n",
      "Student 5 : passed\n"
     ]
    }
   ],
   "source": [
    "marks = [90,25,67,45,80]\n",
    "\n",
    "for number in range(len(marks)):\n",
    "    if marks[number] > 60:\n",
    "        print(\"Student %d : passed\"%(number+1))\n",
    "    else: continue\n"
   ]
  },
  {
   "cell_type": "code",
   "execution_count": 36,
   "metadata": {},
   "outputs": [
    {
     "name": "stdout",
     "output_type": "stream",
     "text": [
      "2단\n",
      "2*1 = 2, 2*2 = 4, 2*3 = 6, 2*4 = 8, 2*5 = 10, 2*6 = 12, 2*7 = 14, 2*8 = 16, 2*9 = 18, \n",
      "3단\n",
      "3*1 = 3, 3*2 = 6, 3*3 = 9, 3*4 = 12, 3*5 = 15, 3*6 = 18, 3*7 = 21, 3*8 = 24, 3*9 = 27, \n",
      "4단\n",
      "4*1 = 4, 4*2 = 8, 4*3 = 12, 4*4 = 16, 4*5 = 20, 4*6 = 24, 4*7 = 28, 4*8 = 32, 4*9 = 36, \n",
      "5단\n",
      "5*1 = 5, 5*2 = 10, 5*3 = 15, 5*4 = 20, 5*5 = 25, 5*6 = 30, 5*7 = 35, 5*8 = 40, 5*9 = 45, \n",
      "6단\n",
      "6*1 = 6, 6*2 = 12, 6*3 = 18, 6*4 = 24, 6*5 = 30, 6*6 = 36, 6*7 = 42, 6*8 = 48, 6*9 = 54, \n",
      "7단\n",
      "7*1 = 7, 7*2 = 14, 7*3 = 21, 7*4 = 28, 7*5 = 35, 7*6 = 42, 7*7 = 49, 7*8 = 56, 7*9 = 63, \n",
      "8단\n",
      "8*1 = 8, 8*2 = 16, 8*3 = 24, 8*4 = 32, 8*5 = 40, 8*6 = 48, 8*7 = 56, 8*8 = 64, 8*9 = 72, \n",
      "9단\n",
      "9*1 = 9, 9*2 = 18, 9*3 = 27, 9*4 = 36, 9*5 = 45, 9*6 = 54, 9*7 = 63, 9*8 = 72, 9*9 = 81, \n"
     ]
    }
   ],
   "source": [
    "#구구단 by HK\n",
    "for i in range(2,10):\n",
    "    print(\"%d단\" % i)\n",
    "    for j in range(1,10):\n",
    "        print(\"%d*%d = %d\" % (i, j, (i*j)), end = \", \")\n",
    "    print(\"\")"
   ]
  },
  {
   "cell_type": "code",
   "execution_count": 37,
   "metadata": {},
   "outputs": [
    {
     "name": "stdout",
     "output_type": "stream",
     "text": [
      "[3, 6, 9, 12]\n"
     ]
    }
   ],
   "source": [
    "a = [1,2,3,4]\n",
    "result = []\n",
    "\n",
    "for num in a:\n",
    "    result.append(num*3)\n",
    "\n",
    "print(result)"
   ]
  },
  {
   "cell_type": "code",
   "execution_count": 42,
   "metadata": {},
   "outputs": [
    {
     "name": "stdout",
     "output_type": "stream",
     "text": [
      "[3, 6, 9, 12]\n"
     ]
    }
   ],
   "source": [
    "result = [num*3 for num in a]\n",
    "\n",
    "print(result)"
   ]
  },
  {
   "cell_type": "code",
   "execution_count": 43,
   "metadata": {},
   "outputs": [
    {
     "name": "stdout",
     "output_type": "stream",
     "text": [
      "[6, 12]\n"
     ]
    }
   ],
   "source": [
    "result = [num*3 for num in a if num%2 ==0]\n",
    "print(result)"
   ]
  },
  {
   "cell_type": "code",
   "execution_count": 44,
   "metadata": {},
   "outputs": [
    {
     "name": "stdout",
     "output_type": "stream",
     "text": [
      "[2, 4, 6, 8, 10, 12, 14, 16, 18, 3, 6, 9, 12, 15, 18, 21, 24, 27, 4, 8, 12, 16, 20, 24, 28, 32, 36, 5, 10, 15, 20, 25, 30, 35, 40, 45, 6, 12, 18, 24, 30, 36, 42, 48, 54, 7, 14, 21, 28, 35, 42, 49, 56, 63, 8, 16, 24, 32, 40, 48, 56, 64, 72, 9, 18, 27, 36, 45, 54, 63, 72, 81]\n"
     ]
    }
   ],
   "source": [
    "result = [i*j for i in range(2,10)\n",
    "                  for j in range(1,10)]\n",
    "\n",
    "print(result)"
   ]
  },
  {
   "cell_type": "code",
   "execution_count": 47,
   "metadata": {},
   "outputs": [
    {
     "name": "stdout",
     "output_type": "stream",
     "text": [
      "***\n"
     ]
    }
   ],
   "source": [
    "print(\"*\"*3)"
   ]
  },
  {
   "cell_type": "code",
   "execution_count": 48,
   "metadata": {},
   "outputs": [
    {
     "name": "stdout",
     "output_type": "stream",
     "text": [
      "*\n",
      "**\n",
      "***\n",
      "****\n",
      "*****\n"
     ]
    }
   ],
   "source": [
    "i = 0\n",
    "\n",
    "while True:\n",
    "    i += 1\n",
    "    if i <= 5:\n",
    "        print(\"*\"*i)\n",
    "    else:\n",
    "        break"
   ]
  },
  {
   "cell_type": "code",
   "execution_count": 49,
   "metadata": {},
   "outputs": [
    {
     "name": "stdout",
     "output_type": "stream",
     "text": [
      "*\n",
      "**\n",
      "***\n",
      "****\n",
      "*****\n"
     ]
    }
   ],
   "source": [
    "i = 0\n",
    "\n",
    "while True:\n",
    "    i += 1\n",
    "    if i > 5: break\n",
    "    print(\"*\"*i)"
   ]
  },
  {
   "cell_type": "code",
   "execution_count": 50,
   "metadata": {},
   "outputs": [
    {
     "data": {
      "text/plain": [
       "10"
      ]
     },
     "execution_count": 50,
     "metadata": {},
     "output_type": "execute_result"
    }
   ],
   "source": [
    "A = [70,60,55,75,95,90,80,80,85,100]\n",
    "len(A)"
   ]
  },
  {
   "cell_type": "code",
   "execution_count": 51,
   "metadata": {},
   "outputs": [
    {
     "name": "stdout",
     "output_type": "stream",
     "text": [
      "79.0\n"
     ]
    }
   ],
   "source": [
    "A = [70,60,55,75,95,90,80,80,85,100]\n",
    "\n",
    "total = 0\n",
    "\n",
    "for i in range(0,len(A)):\n",
    "    total += A[i]\n",
    "\n",
    "average = total/len(A)\n",
    "\n",
    "print(average)"
   ]
  },
  {
   "cell_type": "code",
   "execution_count": 52,
   "metadata": {},
   "outputs": [
    {
     "name": "stdout",
     "output_type": "stream",
     "text": [
      "79.0\n"
     ]
    }
   ],
   "source": [
    "A = [70,60,55,75,95,90,80,80,85,100]\n",
    "\n",
    "total = 0\n",
    "\n",
    "for i in A:\n",
    "    total += i\n",
    "\n",
    "average = total/len(A)\n",
    "\n",
    "print(average)"
   ]
  },
  {
   "cell_type": "code",
   "execution_count": null,
   "metadata": {},
   "outputs": [],
   "source": []
  }
 ],
 "metadata": {
  "kernelspec": {
   "display_name": "Python 3",
   "language": "python",
   "name": "python3"
  },
  "language_info": {
   "codemirror_mode": {
    "name": "ipython",
    "version": 3
   },
   "file_extension": ".py",
   "mimetype": "text/x-python",
   "name": "python",
   "nbconvert_exporter": "python",
   "pygments_lexer": "ipython3",
   "version": "3.6.8"
  }
 },
 "nbformat": 4,
 "nbformat_minor": 2
}
