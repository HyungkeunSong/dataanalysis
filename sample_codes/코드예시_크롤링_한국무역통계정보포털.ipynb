{
 "cells": [
  {
   "cell_type": "markdown",
   "metadata": {},
   "source": [
    "## 한국무역통계정보포털 크롤링"
   ]
  },
  {
   "cell_type": "code",
   "execution_count": 1,
   "metadata": {},
   "outputs": [],
   "source": [
    "# Module\n",
    "import glob\n",
    "import pandas as pd\n",
    "import numpy as np\n",
    "import re\n",
    "\n",
    "from bs4 import BeautifulSoup\n",
    "from urllib.request import urlopen\n",
    "\n",
    "import random\n",
    "import time\n",
    "import math\n",
    "\n",
    "from selenium import webdriver\n",
    "from webdriver_manager.chrome import ChromeDriverManager"
   ]
  },
  {
   "cell_type": "code",
   "execution_count": 2,
   "metadata": {},
   "outputs": [],
   "source": [
    "def data_scraping(max_row):\n",
    "    rawitems_list = list()\n",
    "    for i in range(1,max_row+1):\n",
    "        item_dict = dict()\n",
    "        for j in range(1,8):\n",
    "            item_path = \"\"\"//*[@id=\"{}\"]/td[{}]\"\"\".format(i,j)\n",
    "            item = driver.find_element_by_xpath(item_path).get_attribute('title')\n",
    "            item_dict[col_list[j-1]] = item\n",
    "        df_rawitem = pd.DataFrame(item_dict, [0])\n",
    "        rawitems_list.append(df_rawitem)\n",
    "\n",
    "    df_raw = pd.concat(rawitems_list).reset_index(drop=True)\n",
    "    return df_raw"
   ]
  },
  {
   "cell_type": "markdown",
   "metadata": {},
   "source": [
    "### LOGIN"
   ]
  },
  {
   "cell_type": "code",
   "execution_count": 7,
   "metadata": {},
   "outputs": [
    {
     "name": "stderr",
     "output_type": "stream",
     "text": [
      "[WDM] - Current google-chrome version is 83.0.4103\n",
      "[WDM] - Get LATEST driver version for 83.0.4103\n",
      "[WDM] - Driver [/Users/hyungkeun/.wdm/drivers/chromedriver/mac64/83.0.4103.39/chromedriver] found in cache\n"
     ]
    },
    {
     "name": "stdout",
     "output_type": "stream",
     "text": [
      " \n"
     ]
    }
   ],
   "source": [
    "# Login Page\n",
    "driver = webdriver.Chrome(ChromeDriverManager().install())\n",
    "driver.get('https://www.bandtrass.or.kr/login.do?returnPage=M')\n",
    "\n",
    "# driver = webdriver.Chrome('/Users/hyungkeun/chromedriver')"
   ]
  },
  {
   "cell_type": "code",
   "execution_count": 8,
   "metadata": {},
   "outputs": [],
   "source": [
    "# Input login info\n",
    "time.sleep(random.random()+random.random())\n",
    "xpath_id = \"\"\"//*[@id=\"id\"]\"\"\"\n",
    "driver.find_element_by_xpath(xpath_id).click()\n",
    "elem_login = driver.find_element_by_id('id')\n",
    "elem_login.clear()\n",
    "elem_login.send_keys('***')\n",
    "\n",
    "time.sleep(random.random()+random.random())\n",
    "xpath_pw = \"\"\"//*[@id=\"pw\"]\"\"\"\n",
    "driver.find_element_by_xpath(xpath_pw).click()\n",
    "elem_login = driver.find_element_by_id('pw')\n",
    "elem_login.clear()\n",
    "elem_login.send_keys(\"***\")\n",
    "\n",
    "# Entry\n",
    "time.sleep(random.random()+random.random())\n",
    "xpath_entry = \"\"\"//*[@id=\"page-wrapper\"]/div/div/div[2]/div/table/tbody/tr[1]/td[2]/button\"\"\"\n",
    "driver.find_element_by_xpath(xpath_entry).click()\n",
    "time.sleep(random.random()+random.random())\n",
    "\n",
    "\n",
    "# Change password next time\n",
    "time.sleep(random.random()+random.random()+0.54321)\n",
    "xpath_nochg = \"\"\"//*[@id=\"pass_change\"]/div/div/div[2]/button[2]\"\"\"\n",
    "driver.find_element_by_xpath(xpath_nochg).click()"
   ]
  },
  {
   "cell_type": "code",
   "execution_count": 9,
   "metadata": {},
   "outputs": [
    {
     "data": {
      "text/plain": [
       "['순번', '품목코드', '품목명', '국가명', '금액(달러)', '금액(원화)', '중량(Kg)']"
      ]
     },
     "execution_count": 9,
     "metadata": {},
     "output_type": "execute_result"
    }
   ],
   "source": [
    "# Column head\n",
    "num = '순번'\n",
    "goodcd = '품목코드'\n",
    "goodnm = '품목명'\n",
    "nation = '국가명'\n",
    "amt_dollar = '금액(달러)'\n",
    "amt_won = '금액(원화)'\n",
    "net_wght = '중량(Kg)'\n",
    "col_list = [num, goodcd, goodnm, nation, amt_dollar, amt_won, net_wght]\n",
    "col_list"
   ]
  },
  {
   "cell_type": "code",
   "execution_count": 10,
   "metadata": {},
   "outputs": [
    {
     "name": "stdout",
     "output_type": "stream",
     "text": [
      "9\n"
     ]
    }
   ],
   "source": [
    "# goods list\n",
    "goods_cd_list = ['240220','1902301010', '1901101010', '3304', '3304991000',\n",
    "                 '3304992000', '330410', '330420', '3307909000']\n",
    "print(len(goods_cd_list))"
   ]
  },
  {
   "cell_type": "markdown",
   "metadata": {},
   "source": [
    "### CRAWL DATA"
   ]
  },
  {
   "cell_type": "code",
   "execution_count": 12,
   "metadata": {},
   "outputs": [
    {
     "name": "stdout",
     "output_type": "stream",
     "text": [
      "page 1 of 2 in cd:240220 is successfully finished\n",
      "page 2 of 2 in cd:240220 is successfully finished\n",
      "page 1 of 3 in cd:1902301010 is successfully finished\n",
      "page 2 of 3 in cd:1902301010 is successfully finished\n",
      "page 3 of 3 in cd:1902301010 is successfully finished\n",
      "page 3 of 1 in cd:1901101010 is successfully finished\n",
      "page 1 of 4 in cd:3304 is successfully finished\n",
      "page 2 of 4 in cd:3304 is successfully finished\n",
      "page 3 of 4 in cd:3304 is successfully finished\n",
      "page 4 of 4 in cd:3304 is successfully finished\n",
      "page 1 of 4 in cd:3304991000 is successfully finished\n",
      "page 2 of 4 in cd:3304991000 is successfully finished\n",
      "page 3 of 4 in cd:3304991000 is successfully finished\n",
      "page 4 of 4 in cd:3304991000 is successfully finished\n",
      "page 1 of 3 in cd:3304992000 is successfully finished\n",
      "page 2 of 3 in cd:3304992000 is successfully finished\n",
      "page 3 of 3 in cd:3304992000 is successfully finished\n",
      "page 1 of 3 in cd:330410 is successfully finished\n",
      "page 2 of 3 in cd:330410 is successfully finished\n",
      "page 3 of 3 in cd:330410 is successfully finished\n",
      "page 1 of 3 in cd:330420 is successfully finished\n",
      "page 2 of 3 in cd:330420 is successfully finished\n",
      "page 3 of 3 in cd:330420 is successfully finished\n",
      "page 1 of 3 in cd:3307909000 is successfully finished\n",
      "page 2 of 3 in cd:3307909000 is successfully finished\n",
      "page 3 of 3 in cd:3307909000 is successfully finished\n"
     ]
    }
   ],
   "source": [
    "all_dfraw_list = list()\n",
    "\n",
    "\n",
    "for good in goods_cd_list:\n",
    "    # Go to the page that has data\n",
    "    driver.get('https://www.bandtrass.or.kr/index.do')\n",
    "    time.sleep(random.randint(5, 7)+random.random())\n",
    "    driver.get('https://www.bandtrass.or.kr/customs/total.do?command=CUS001View&viewCode=CUS00401')\n",
    "    time.sleep(random.randint(30, 35)+random.random())\n",
    "    \n",
    "    # Select multiple goods\n",
    "    time.sleep(random.randint(10, 15)+random.random())\n",
    "    xpath = \"\"\"//*[@id=\"tr1\"]/td/div[2]/label\"\"\"\n",
    "    driver.find_element_by_xpath(xpath).click()\n",
    "    time.sleep(random.random()+random.random())\n",
    "    \n",
    "    # Setting code\n",
    "    time.sleep(random.randint(5, 7)+random.random())\n",
    "    xpath = \"\"\"//*[@id=\"SelectCd\"]\"\"\"\n",
    "    driver.find_element_by_xpath(xpath).click()\n",
    "    elem_good = driver.find_element_by_id('SelectCd')\n",
    "    elem_good.clear()\n",
    "    elem_good.send_keys(good)\n",
    "\n",
    "    # Entry\n",
    "    time.sleep(random.randint(5, 7)+random.random())\n",
    "    xpath = \"\"\"//*[@id=\"form\"]/div/div[1]/div[3]/button\"\"\"\n",
    "    driver.find_element_by_xpath(xpath).click()\n",
    "    \n",
    "    # Waiting for loading data. It might take long but can't be helped\n",
    "    # I randomly set 35~40 seconds for safety    \n",
    "    time.sleep(random.randint(30, 35)+random.random())\n",
    "\n",
    "    # Soup\n",
    "    html = driver.page_source\n",
    "    soup = BeautifulSoup(html, 'html.parser')\n",
    "        \n",
    "    # Page Info\n",
    "    totcnt = int(soup.find_all('strong', class_='totCnt')[0].get_text())\n",
    "    page_nums = math.ceil(totcnt/50)\n",
    "    page_remain = totcnt%50\n",
    "    \n",
    "    \n",
    "    # SCRAPING\n",
    "    if totcnt >= 50:\n",
    "        for page_num in range(0,page_nums):      \n",
    "            if page_nums == 1:\n",
    "                time.sleep(random.randint(5, 7)+random.random())\n",
    "                result = data_scraping(50)\n",
    "                all_dfraw_list.append(result)\n",
    "                print('page {} of {} in cd:{} is successfully finished'.format(page_num+1, page_nums, good), end='\\n')\n",
    "\n",
    "            elif page_nums == 2:\n",
    "                if page_num == 0:\n",
    "                    result = data_scraping(50)\n",
    "                    all_dfraw_list.append(result)\n",
    "                    print('page {} of {} in cd:{} is successfully finished'.format(page_num+1, page_nums, good), end='\\n')\n",
    "                elif page_num == page_nums-1:\n",
    "                    x_path = \"\"\"//*[@id=\"form\"]/div/div[4]/div/span/a[{}]\"\"\".format(page_num)\n",
    "                    driver.find_element_by_xpath(x_path).click()\n",
    "                    time.sleep(random.randint(30, 35)+random.random())\n",
    "                    result = data_scraping(page_remain)\n",
    "                    all_dfraw_list.append(result)\n",
    "                    print('page {} of {} in cd:{} is successfully finished'.format(page_num+1, page_nums, good), end='\\n')\n",
    "                    time.sleep(1)\n",
    "\n",
    "    #                 # return to Page 1\n",
    "    #                 time.sleep(random.randint(5, 10)+random.random())\n",
    "    #                 x_path = \"\"\"//*[@id=\"form\"]/div/div[4]/div/span/a[1]\"\"\"\n",
    "    #                 driver.find_element_by_xpath(x_path).click()\n",
    "    #                 time.sleep(random.randint(35, 40)+random.random())        \n",
    "            elif page_nums == 3:\n",
    "                if page_num == 0:\n",
    "                    result = data_scraping(50)\n",
    "                    all_dfraw_list.append(result)\n",
    "                    print('page {} of {} in cd:{} is successfully finished'.format(page_num+1, page_nums, good), end='\\n')\n",
    "                    time.sleep(1)\n",
    "                elif page_num == 1:\n",
    "                    x_path = \"\"\"//*[@id=\"form\"]/div/div[4]/div/span/a[1]\"\"\"\n",
    "                    driver.find_element_by_xpath(x_path).click()\n",
    "                    time.sleep(random.randint(30, 35)+random.random())\n",
    "                    result = data_scraping(50)\n",
    "                    all_dfraw_list.append(result)\n",
    "                    print('page {} of {} in cd:{} is successfully finished'.format(page_num+1, page_nums, good), end='\\n')\n",
    "                    time.sleep(1)\n",
    "                else:\n",
    "                    x_path = \"\"\"//*[@id=\"form\"]/div/div[4]/div/span/a[2]\"\"\"\n",
    "                    driver.find_element_by_xpath(x_path).click()\n",
    "                    time.sleep(random.randint(30, 35)+random.random())\n",
    "                    result = data_scraping(page_remain)\n",
    "                    all_dfraw_list.append(result)\n",
    "                    print('page {} of {} in cd:{} is successfully finished'.format(page_num+1, page_nums, good), end='\\n')\n",
    "                    time.sleep(1)\n",
    "\n",
    "            else:\n",
    "                if page_num == 0:\n",
    "                    result = data_scraping(50)\n",
    "                    all_dfraw_list.append(result)\n",
    "                    print('page {} of {} in cd:{} is successfully finished'.format(page_num+1, page_nums, good), end='\\n')\n",
    "                    time.sleep(1)\n",
    "                elif page_num == page_nums-1:\n",
    "                    x_path = \"\"\"//*[@id=\"form\"]/div/div[4]/div/span/a[{}]\"\"\".format(page_num)\n",
    "                    driver.find_element_by_xpath(x_path).click()\n",
    "                    time.sleep(random.randint(30, 35)+random.random())\n",
    "                    result = data_scraping(page_remain)\n",
    "                    all_dfraw_list.append(result)\n",
    "                    print('page {} of {} in cd:{} is successfully finished'.format(page_num+1, page_nums, good), end='\\n')\n",
    "                    time.sleep(1)\n",
    "                else:\n",
    "                    x_path = \"\"\"//*[@id=\"form\"]/div/div[4]/div/span/a[{}]\"\"\".format(page_num)\n",
    "                    driver.find_element_by_xpath(x_path).click()\n",
    "                    time.sleep(random.randint(30, 35)+random.random())\n",
    "                    result = data_scraping(50)\n",
    "                    all_dfraw_list.append(result)\n",
    "                    print('page {} of {} in cd:{} is successfully finished'.format(page_num+1, page_nums, good), end='\\n')\n",
    "                    time.sleep(1)\n",
    "\n",
    "    else:\n",
    "        time.sleep(random.randint(5, 7)+random.random())\n",
    "        result = data_scraping(totcnt)\n",
    "        all_dfraw_list.append(result)\n",
    "        print('page {} of {} in cd:{} is successfully finished'.format(page_num+1, page_nums, good), end='\\n')\n"
   ]
  },
  {
   "cell_type": "code",
   "execution_count": 13,
   "metadata": {},
   "outputs": [
    {
     "name": "stdout",
     "output_type": "stream",
     "text": [
      "(1003, 7)\n"
     ]
    },
    {
     "data": {
      "text/html": [
       "<div>\n",
       "<style scoped>\n",
       "    .dataframe tbody tr th:only-of-type {\n",
       "        vertical-align: middle;\n",
       "    }\n",
       "\n",
       "    .dataframe tbody tr th {\n",
       "        vertical-align: top;\n",
       "    }\n",
       "\n",
       "    .dataframe thead th {\n",
       "        text-align: right;\n",
       "    }\n",
       "</style>\n",
       "<table border=\"1\" class=\"dataframe\">\n",
       "  <thead>\n",
       "    <tr style=\"text-align: right;\">\n",
       "      <th></th>\n",
       "      <th>순번</th>\n",
       "      <th>품목코드</th>\n",
       "      <th>품목명</th>\n",
       "      <th>국가명</th>\n",
       "      <th>금액(달러)</th>\n",
       "      <th>금액(원화)</th>\n",
       "      <th>중량(Kg)</th>\n",
       "    </tr>\n",
       "  </thead>\n",
       "  <tbody>\n",
       "    <tr>\n",
       "      <td>0</td>\n",
       "      <td>1</td>\n",
       "      <td>240220</td>\n",
       "      <td>궐련(담배를 함유한 것으로 한정한다)</td>\n",
       "      <td>아랍에미리트 연합</td>\n",
       "      <td>6,384,755</td>\n",
       "      <td>7,825,985,208</td>\n",
       "      <td>304,704.00</td>\n",
       "    </tr>\n",
       "    <tr>\n",
       "      <td>1</td>\n",
       "      <td>2</td>\n",
       "      <td>240220</td>\n",
       "      <td>궐련(담배를 함유한 것으로 한정한다)</td>\n",
       "      <td>일본</td>\n",
       "      <td>5,590,602</td>\n",
       "      <td>6,833,755,540</td>\n",
       "      <td>391,651.93</td>\n",
       "    </tr>\n",
       "    <tr>\n",
       "      <td>2</td>\n",
       "      <td>3</td>\n",
       "      <td>240220</td>\n",
       "      <td>궐련(담배를 함유한 것으로 한정한다)</td>\n",
       "      <td>미국</td>\n",
       "      <td>3,349,624</td>\n",
       "      <td>4,076,329,629</td>\n",
       "      <td>219,892.81</td>\n",
       "    </tr>\n",
       "  </tbody>\n",
       "</table>\n",
       "</div>"
      ],
      "text/plain": [
       "  순번    품목코드                   품목명        국가명     금액(달러)         금액(원화)  \\\n",
       "0  1  240220  궐련(담배를 함유한 것으로 한정한다)  아랍에미리트 연합  6,384,755  7,825,985,208   \n",
       "1  2  240220  궐련(담배를 함유한 것으로 한정한다)         일본  5,590,602  6,833,755,540   \n",
       "2  3  240220  궐련(담배를 함유한 것으로 한정한다)         미국  3,349,624  4,076,329,629   \n",
       "\n",
       "       중량(Kg)  \n",
       "0  304,704.00  \n",
       "1  391,651.93  \n",
       "2  219,892.81  "
      ]
     },
     "execution_count": 13,
     "metadata": {},
     "output_type": "execute_result"
    }
   ],
   "source": [
    "all_df = pd.concat(all_dfraw_list).reset_index(drop=True)\n",
    "print(all_df.shape)\n",
    "all_df.head(3)"
   ]
  },
  {
   "cell_type": "code",
   "execution_count": 14,
   "metadata": {},
   "outputs": [],
   "source": [
    "# all_df.to_excel('/Users/hyungkeun/Desktop/...xlsx', index=False)"
   ]
  }
 ],
 "metadata": {
  "kernelspec": {
   "display_name": "Python 3",
   "language": "python",
   "name": "python3"
  },
  "language_info": {
   "codemirror_mode": {
    "name": "ipython",
    "version": 3
   },
   "file_extension": ".py",
   "mimetype": "text/x-python",
   "name": "python",
   "nbconvert_exporter": "python",
   "pygments_lexer": "ipython3",
   "version": "3.7.4"
  }
 },
 "nbformat": 4,
 "nbformat_minor": 4
}
