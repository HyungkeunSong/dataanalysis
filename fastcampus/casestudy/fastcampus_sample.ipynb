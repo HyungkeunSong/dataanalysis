{
 "cells": [
  {
   "cell_type": "markdown",
   "metadata": {},
   "source": [
    "# 서베이 데이터 효율적으로 분석하며 인사이트 도출하기"
   ]
  },
  {
   "cell_type": "markdown",
   "metadata": {},
   "source": [
    "- 전반적인 분석 사례 과정을 설명하기 위해 임시로 만든 데이터셋입니다.\n",
    "- 실제 사용된 데이터셋과는 다릅니다."
   ]
  },
  {
   "cell_type": "code",
   "execution_count": 1,
   "metadata": {
    "execution": {
     "iopub.execute_input": "2021-06-08T06:43:12.107330Z",
     "iopub.status.busy": "2021-06-08T06:43:12.106977Z",
     "iopub.status.idle": "2021-06-08T06:43:16.981992Z",
     "shell.execute_reply": "2021-06-08T06:43:16.981081Z",
     "shell.execute_reply.started": "2021-06-08T06:43:12.107259Z"
    },
    "tags": []
   },
   "outputs": [],
   "source": [
    "import pandas as pd\n",
    "import numpy as np\n",
    "pd.set_option('mode.chained_assignment', None)"
   ]
  },
  {
   "cell_type": "markdown",
   "metadata": {},
   "source": [
    "# Load Dataset"
   ]
  },
  {
   "cell_type": "code",
   "execution_count": 2,
   "metadata": {
    "execution": {
     "iopub.execute_input": "2021-06-08T06:43:16.985849Z",
     "iopub.status.busy": "2021-06-08T06:43:16.985528Z",
     "iopub.status.idle": "2021-06-08T06:43:17.482255Z",
     "shell.execute_reply": "2021-06-08T06:43:17.481673Z",
     "shell.execute_reply.started": "2021-06-08T06:43:16.985821Z"
    },
    "tags": []
   },
   "outputs": [
    {
     "data": {
      "text/html": [
       "<div>\n",
       "<style scoped>\n",
       "    .dataframe tbody tr th:only-of-type {\n",
       "        vertical-align: middle;\n",
       "    }\n",
       "\n",
       "    .dataframe tbody tr th {\n",
       "        vertical-align: top;\n",
       "    }\n",
       "\n",
       "    .dataframe thead th {\n",
       "        text-align: right;\n",
       "    }\n",
       "</style>\n",
       "<table border=\"1\" class=\"dataframe\">\n",
       "  <thead>\n",
       "    <tr style=\"text-align: right;\">\n",
       "      <th></th>\n",
       "      <th>ID</th>\n",
       "      <th>성별</th>\n",
       "      <th>나이</th>\n",
       "      <th>사용하는앱</th>\n",
       "      <th>최근사용한앱</th>\n",
       "      <th>사용빈도</th>\n",
       "      <th>사용이유</th>\n",
       "      <th>만나고싶은사람</th>\n",
       "      <th>소통형태</th>\n",
       "    </tr>\n",
       "  </thead>\n",
       "  <tbody>\n",
       "    <tr>\n",
       "      <th>0</th>\n",
       "      <td>1</td>\n",
       "      <td>여</td>\n",
       "      <td>14세 이상-18세 미만</td>\n",
       "      <td>스푼</td>\n",
       "      <td>스푼</td>\n",
       "      <td>거의 매일 이용</td>\n",
       "      <td>바나나</td>\n",
       "      <td>축구선수</td>\n",
       "      <td>C형</td>\n",
       "    </tr>\n",
       "    <tr>\n",
       "      <th>1</th>\n",
       "      <td>2</td>\n",
       "      <td>여</td>\n",
       "      <td>30-39세</td>\n",
       "      <td>C사</td>\n",
       "      <td>C사</td>\n",
       "      <td>주 3-5회</td>\n",
       "      <td>포도</td>\n",
       "      <td>야구선수</td>\n",
       "      <td>B형</td>\n",
       "    </tr>\n",
       "    <tr>\n",
       "      <th>2</th>\n",
       "      <td>3</td>\n",
       "      <td>여</td>\n",
       "      <td>18-24세</td>\n",
       "      <td>스푼, A사, B사, C사</td>\n",
       "      <td>스푼</td>\n",
       "      <td>주 3-5회</td>\n",
       "      <td>기타</td>\n",
       "      <td>축구선수, 야구선수, 테니스선수, 수영선수</td>\n",
       "      <td>C형</td>\n",
       "    </tr>\n",
       "    <tr>\n",
       "      <th>3</th>\n",
       "      <td>4</td>\n",
       "      <td>남</td>\n",
       "      <td>25-29세</td>\n",
       "      <td>스푼, C사</td>\n",
       "      <td>C사</td>\n",
       "      <td>거의 매일 이용</td>\n",
       "      <td>포도</td>\n",
       "      <td>축구선수, 테니스선수</td>\n",
       "      <td>B형</td>\n",
       "    </tr>\n",
       "    <tr>\n",
       "      <th>4</th>\n",
       "      <td>5</td>\n",
       "      <td>남</td>\n",
       "      <td>40세 이상</td>\n",
       "      <td>B사, E사</td>\n",
       "      <td>E사</td>\n",
       "      <td>주 2회 이하</td>\n",
       "      <td>오렌지</td>\n",
       "      <td>수영선수</td>\n",
       "      <td>B형</td>\n",
       "    </tr>\n",
       "    <tr>\n",
       "      <th>...</th>\n",
       "      <td>...</td>\n",
       "      <td>...</td>\n",
       "      <td>...</td>\n",
       "      <td>...</td>\n",
       "      <td>...</td>\n",
       "      <td>...</td>\n",
       "      <td>...</td>\n",
       "      <td>...</td>\n",
       "      <td>...</td>\n",
       "    </tr>\n",
       "    <tr>\n",
       "      <th>2949</th>\n",
       "      <td>2950</td>\n",
       "      <td>여</td>\n",
       "      <td>18-24세</td>\n",
       "      <td>스푼</td>\n",
       "      <td>스푼</td>\n",
       "      <td>거의 매일 이용</td>\n",
       "      <td>수박</td>\n",
       "      <td>축구선수, 야구선수, 테니스선수, 수영선수</td>\n",
       "      <td>C형</td>\n",
       "    </tr>\n",
       "    <tr>\n",
       "      <th>2950</th>\n",
       "      <td>2951</td>\n",
       "      <td>남</td>\n",
       "      <td>18-24세</td>\n",
       "      <td>스푼</td>\n",
       "      <td>스푼</td>\n",
       "      <td>주 3-5회</td>\n",
       "      <td>사과</td>\n",
       "      <td>축구선수, 야구선수, 테니스선수</td>\n",
       "      <td>C형</td>\n",
       "    </tr>\n",
       "    <tr>\n",
       "      <th>2951</th>\n",
       "      <td>2952</td>\n",
       "      <td>남</td>\n",
       "      <td>25-29세</td>\n",
       "      <td>스푼</td>\n",
       "      <td>스푼</td>\n",
       "      <td>주 3-5회</td>\n",
       "      <td>오렌지</td>\n",
       "      <td>축구선수, 테니스선수</td>\n",
       "      <td>B형</td>\n",
       "    </tr>\n",
       "    <tr>\n",
       "      <th>2952</th>\n",
       "      <td>2953</td>\n",
       "      <td>여</td>\n",
       "      <td>25-29세</td>\n",
       "      <td>스푼</td>\n",
       "      <td>스푼</td>\n",
       "      <td>거의 매일 이용</td>\n",
       "      <td>사과</td>\n",
       "      <td>축구선수, 테니스선수, 수영선수</td>\n",
       "      <td>B형</td>\n",
       "    </tr>\n",
       "    <tr>\n",
       "      <th>2953</th>\n",
       "      <td>2954</td>\n",
       "      <td>여</td>\n",
       "      <td>25-29세</td>\n",
       "      <td>스푼, A사, B사, C사, D사</td>\n",
       "      <td>스푼</td>\n",
       "      <td>거의 매일 이용</td>\n",
       "      <td>사과</td>\n",
       "      <td>축구선수, 기타_직접입력22</td>\n",
       "      <td>C형</td>\n",
       "    </tr>\n",
       "  </tbody>\n",
       "</table>\n",
       "<p>2954 rows × 9 columns</p>\n",
       "</div>"
      ],
      "text/plain": [
       "        ID 성별             나이               사용하는앱 최근사용한앱      사용빈도 사용이유  \\\n",
       "0        1  여  14세 이상-18세 미만                  스푼     스푼  거의 매일 이용  바나나   \n",
       "1        2  여         30-39세                  C사     C사    주 3-5회   포도   \n",
       "2        3  여         18-24세      스푼, A사, B사, C사     스푼    주 3-5회   기타   \n",
       "3        4  남         25-29세              스푼, C사     C사  거의 매일 이용   포도   \n",
       "4        5  남         40세 이상              B사, E사     E사   주 2회 이하  오렌지   \n",
       "...    ... ..            ...                 ...    ...       ...  ...   \n",
       "2949  2950  여         18-24세                  스푼     스푼  거의 매일 이용   수박   \n",
       "2950  2951  남         18-24세                  스푼     스푼    주 3-5회   사과   \n",
       "2951  2952  남         25-29세                  스푼     스푼    주 3-5회  오렌지   \n",
       "2952  2953  여         25-29세                  스푼     스푼  거의 매일 이용   사과   \n",
       "2953  2954  여         25-29세  스푼, A사, B사, C사, D사     스푼  거의 매일 이용   사과   \n",
       "\n",
       "                      만나고싶은사람 소통형태  \n",
       "0                        축구선수   C형  \n",
       "1                        야구선수   B형  \n",
       "2     축구선수, 야구선수, 테니스선수, 수영선수   C형  \n",
       "3                 축구선수, 테니스선수   B형  \n",
       "4                        수영선수   B형  \n",
       "...                       ...  ...  \n",
       "2949  축구선수, 야구선수, 테니스선수, 수영선수   C형  \n",
       "2950        축구선수, 야구선수, 테니스선수   C형  \n",
       "2951              축구선수, 테니스선수   B형  \n",
       "2952        축구선수, 테니스선수, 수영선수   B형  \n",
       "2953          축구선수, 기타_직접입력22   C형  \n",
       "\n",
       "[2954 rows x 9 columns]"
      ]
     },
     "execution_count": 2,
     "metadata": {},
     "output_type": "execute_result"
    }
   ],
   "source": [
    "# Raw Data\n",
    "df_raw = pd.read_excel('./survey_sample_fastcampus.xlsx')\n",
    "df_raw"
   ]
  },
  {
   "cell_type": "code",
   "execution_count": 3,
   "metadata": {
    "execution": {
     "iopub.execute_input": "2021-06-08T06:43:17.484835Z",
     "iopub.status.busy": "2021-06-08T06:43:17.484593Z",
     "iopub.status.idle": "2021-06-08T06:43:17.489399Z",
     "shell.execute_reply": "2021-06-08T06:43:17.488716Z",
     "shell.execute_reply.started": "2021-06-08T06:43:17.484813Z"
    },
    "tags": []
   },
   "outputs": [],
   "source": [
    "# null값 = 응답없음으로 처리\n",
    "df_raw.fillna('응답없음', inplace=True)"
   ]
  },
  {
   "cell_type": "code",
   "execution_count": 4,
   "metadata": {
    "execution": {
     "iopub.execute_input": "2021-06-08T06:43:17.492269Z",
     "iopub.status.busy": "2021-06-08T06:43:17.492031Z",
     "iopub.status.idle": "2021-06-08T06:43:17.496922Z",
     "shell.execute_reply": "2021-06-08T06:43:17.496313Z",
     "shell.execute_reply.started": "2021-06-08T06:43:17.492246Z"
    },
    "scrolled": true,
    "tags": []
   },
   "outputs": [
    {
     "data": {
      "text/plain": [
       "ID          int64\n",
       "성별         object\n",
       "나이         object\n",
       "사용하는앱      object\n",
       "최근사용한앱     object\n",
       "사용빈도       object\n",
       "사용이유       object\n",
       "만나고싶은사람    object\n",
       "소통형태       object\n",
       "dtype: object"
      ]
     },
     "execution_count": 4,
     "metadata": {},
     "output_type": "execute_result"
    }
   ],
   "source": [
    "df_raw.dtypes"
   ]
  },
  {
   "cell_type": "code",
   "execution_count": 5,
   "metadata": {
    "execution": {
     "iopub.execute_input": "2021-06-08T06:43:17.499648Z",
     "iopub.status.busy": "2021-06-08T06:43:17.499420Z",
     "iopub.status.idle": "2021-06-08T06:43:17.531659Z",
     "shell.execute_reply": "2021-06-08T06:43:17.531039Z",
     "shell.execute_reply.started": "2021-06-08T06:43:17.499626Z"
    },
    "scrolled": true,
    "tags": []
   },
   "outputs": [
    {
     "name": "stdout",
     "output_type": "stream",
     "text": [
      "(42, 7)\n",
      "  q_id         original_q column_nm          label  scale multi_yn  note\n",
      "0    1     귀하의 성별은 무엇입니까?        성별              남      0        n   NaN\n",
      "1    1     귀하의 성별은 무엇입니까?        성별              여      1        n   NaN\n",
      "2    2  귀하의 연령은 어떻게 되십니까?        나이  14세 이상-18세 미만      0        n   NaN\n",
      "3    2  귀하의 연령은 어떻게 되십니까?        나이         18-24세      1        n   NaN\n",
      "4    2  귀하의 연령은 어떻게 되십니까?        나이         25-29세      2        n   NaN\n"
     ]
    }
   ],
   "source": [
    "# Raw Data\n",
    "df_mapper = pd.read_excel('/Users/justin/Desktop/fastcampus/survey_mapper_fastcampus.xlsx')\n",
    "print(df_mapper.shape)\n",
    "print(df_mapper.head())"
   ]
  },
  {
   "cell_type": "markdown",
   "metadata": {},
   "source": [
    "# Understanding Data"
   ]
  },
  {
   "cell_type": "code",
   "execution_count": 6,
   "metadata": {
    "execution": {
     "iopub.execute_input": "2021-06-08T06:43:17.534633Z",
     "iopub.status.busy": "2021-06-08T06:43:17.534285Z",
     "iopub.status.idle": "2021-06-08T06:43:17.635278Z",
     "shell.execute_reply": "2021-06-08T06:43:17.634574Z",
     "shell.execute_reply.started": "2021-06-08T06:43:17.534608Z"
    },
    "tags": []
   },
   "outputs": [
    {
     "name": "stdout",
     "output_type": "stream",
     "text": [
      "여    1600\n",
      "남    1354\n",
      "Name: 성별, dtype: int64\n",
      "여    54.16\n",
      "남    45.84\n",
      "Name: 성별, dtype: float64\n"
     ]
    }
   ],
   "source": [
    "# Check unique values\n",
    "# single_response\n",
    "print(df_raw['성별'].value_counts())\n",
    "print(round(df_raw['성별'].value_counts(normalize=True)*100,2))"
   ]
  },
  {
   "cell_type": "code",
   "execution_count": 7,
   "metadata": {
    "execution": {
     "iopub.execute_input": "2021-06-08T06:43:17.638145Z",
     "iopub.status.busy": "2021-06-08T06:43:17.637903Z",
     "iopub.status.idle": "2021-06-08T06:43:17.647481Z",
     "shell.execute_reply": "2021-06-08T06:43:17.646898Z",
     "shell.execute_reply.started": "2021-06-08T06:43:17.638122Z"
    },
    "scrolled": true,
    "tags": []
   },
   "outputs": [
    {
     "name": "stdout",
     "output_type": "stream",
     "text": [
      "축구선수         2040\n",
      "수영선수         1200\n",
      "테니스선수        1008\n",
      "야구선수          384\n",
      "기타_직접입력15       2\n",
      "기타_직접입력20       2\n",
      "기타_직접입력30       2\n",
      "기타_직접입력35       2\n",
      "기타_직접입력5        2\n",
      "기타_직접입력7        2\n",
      "기타_직접입력26       2\n",
      "기타_직접입력21       2\n",
      "기타_직접입력14       2\n",
      "기타_직접입력13       2\n",
      "기타_직접입력12       2\n",
      "기타_직접입력29       2\n",
      "기타_직접입력34       2\n",
      "기타_직접입력33       2\n",
      "기타_직접입력19       2\n",
      "기타_직접입력2        2\n",
      "기타_직접입력32       2\n",
      "기타_직접입력16       2\n",
      "기타_직접입력11       2\n",
      "기타_직접입력28       2\n",
      "기타_직접입력18       2\n",
      "기타_직접입력24       2\n",
      "기타_직접입력22       2\n",
      "기타_직접입력3        2\n",
      "기타_직접입력31       2\n",
      "기타_직접입력17       2\n",
      "기타_직접입력27       2\n",
      "기타_직접입력23       2\n",
      "기타_직접입력9        2\n",
      "기타_직접입력4        2\n",
      "기타_직접입력25       2\n",
      "기타_직접입력8        2\n",
      "기타_직접입력10       2\n",
      "기타_직접입력1        2\n",
      "기타_직접입력6        2\n",
      "dtype: int64\n",
      "축구선수         43.39\n",
      "수영선수         25.52\n",
      "테니스선수        21.44\n",
      "야구선수          8.17\n",
      "기타_직접입력15     0.04\n",
      "기타_직접입력20     0.04\n",
      "기타_직접입력30     0.04\n",
      "기타_직접입력35     0.04\n",
      "기타_직접입력5      0.04\n",
      "기타_직접입력7      0.04\n",
      "기타_직접입력26     0.04\n",
      "기타_직접입력21     0.04\n",
      "기타_직접입력14     0.04\n",
      "기타_직접입력13     0.04\n",
      "기타_직접입력12     0.04\n",
      "기타_직접입력29     0.04\n",
      "기타_직접입력34     0.04\n",
      "기타_직접입력33     0.04\n",
      "기타_직접입력19     0.04\n",
      "기타_직접입력2      0.04\n",
      "기타_직접입력32     0.04\n",
      "기타_직접입력16     0.04\n",
      "기타_직접입력11     0.04\n",
      "기타_직접입력28     0.04\n",
      "기타_직접입력18     0.04\n",
      "기타_직접입력24     0.04\n",
      "기타_직접입력22     0.04\n",
      "기타_직접입력3      0.04\n",
      "기타_직접입력31     0.04\n",
      "기타_직접입력17     0.04\n",
      "기타_직접입력27     0.04\n",
      "기타_직접입력23     0.04\n",
      "기타_직접입력9      0.04\n",
      "기타_직접입력4      0.04\n",
      "기타_직접입력25     0.04\n",
      "기타_직접입력8      0.04\n",
      "기타_직접입력10     0.04\n",
      "기타_직접입력1      0.04\n",
      "기타_직접입력6      0.04\n",
      "dtype: float64\n"
     ]
    }
   ],
   "source": [
    "# multi_response\n",
    "tmp_list = []\n",
    "\n",
    "for v in df_raw['만나고싶은사람']:\n",
    "    tmp_list.extend(v.split(', '))\n",
    "\n",
    "print(pd.Series(tmp_list).value_counts())\n",
    "print(round(pd.Series(tmp_list).value_counts(normalize=True)*100,2))"
   ]
  },
  {
   "cell_type": "markdown",
   "metadata": {},
   "source": [
    "# Create Definitions"
   ]
  },
  {
   "cell_type": "markdown",
   "metadata": {},
   "source": [
    "## General"
   ]
  },
  {
   "cell_type": "markdown",
   "metadata": {},
   "source": [
    "### Sort index"
   ]
  },
  {
   "cell_type": "code",
   "execution_count": 8,
   "metadata": {
    "execution": {
     "iopub.execute_input": "2021-06-08T06:43:17.650035Z",
     "iopub.status.busy": "2021-06-08T06:43:17.649809Z",
     "iopub.status.idle": "2021-06-08T06:43:17.656852Z",
     "shell.execute_reply": "2021-06-08T06:43:17.656232Z",
     "shell.execute_reply.started": "2021-06-08T06:43:17.650015Z"
    },
    "tags": []
   },
   "outputs": [],
   "source": [
    "# Sort index\n",
    "def def_sort_index(df,col,axis,level):\n",
    "    sorted_labels = df_mapper[df_mapper['column_nm'] == col].sort_values(by='scale')['label'].tolist()\n",
    "    output_list = []\n",
    "    cols = []\n",
    "    if axis == 1:\n",
    "        if len(df.columns.names) == 1:\n",
    "            for v in df.columns.tolist():\n",
    "                if v not in cols:\n",
    "                    cols.append(v) \n",
    "            for v in sorted_labels + cols:\n",
    "                if v not in output_list:\n",
    "                    output_list.append(v)\n",
    "            df = df.reindex(output_list, axis=1, fill_value=0)            \n",
    "        elif len(df.columns.names) == 2:\n",
    "            for v in df.columns:\n",
    "                v = v[level]\n",
    "                if v not in cols:\n",
    "                    cols.append(v) \n",
    "            for v in sorted_labels + cols:\n",
    "                if v not in output_list:\n",
    "                    output_list.append(v)\n",
    "            df = df.reindex(output_list, axis=1, level=level, fill_value=0)\n",
    "        \n",
    "    # Sorting Index\n",
    "    elif axis==None:\n",
    "        for v in sorted_labels + df.index.tolist():\n",
    "            if v not in output_list:\n",
    "                output_list.append(v)\n",
    "                if v not in df.index.tolist():\n",
    "                    df_tmp = pd.DataFrame(data=[np.zeros(df.shape[1])], columns=df.columns.tolist()).rename(index={0: v})\n",
    "                    df = df.append(df_tmp)\n",
    "        df = df.reindex(output_list, axis=0, fill_value=0)\n",
    "\n",
    "    return df"
   ]
  },
  {
   "cell_type": "markdown",
   "metadata": {},
   "source": [
    "### Calculate Total"
   ]
  },
  {
   "cell_type": "code",
   "execution_count": 9,
   "metadata": {
    "execution": {
     "iopub.execute_input": "2021-06-08T06:43:17.664716Z",
     "iopub.status.busy": "2021-06-08T06:43:17.664492Z",
     "iopub.status.idle": "2021-06-08T06:43:17.670691Z",
     "shell.execute_reply": "2021-06-08T06:43:17.670072Z",
     "shell.execute_reply.started": "2021-06-08T06:43:17.664696Z"
    },
    "tags": []
   },
   "outputs": [],
   "source": [
    "def def_get_total(df, multi_yn, iv):\n",
    "    if multi_yn == 'n':\n",
    "        df['Total'] = df.sum(axis=1, skipna = True).values\n",
    "        row_total = pd.DataFrame(df.sum(axis = 0, skipna = True)).T\n",
    "        row_total.rename(index={0: 'Total'}, inplace=True)\n",
    "        df = pd.concat([df, row_total], axis=0)\n",
    "\n",
    "    elif (multi_yn == 'y') & (len(df.columns.names) == 1):\n",
    "        df_vcounts = pd.DataFrame(df_raw[iv[0]].value_counts()).T.rename(index={iv[0]:'Total'})\n",
    "        df_vcounts = def_sort_index(df_vcounts,iv[0],1,0)\n",
    "        df = df.append(df_vcounts)\n",
    "        df['Total'] = df.sum(axis=1, skipna = True).values\n",
    "        \n",
    "    elif (multi_yn == 'y') & (len(df.columns.names) == 2):\n",
    "        df_vcounts = pd.DataFrame(df_raw[iv].value_counts()).T\n",
    "        for e, v in enumerate(iv):\n",
    "            df_vcounts = def_sort_index(df_vcounts,iv[e],1,e)\n",
    "            df_vcounts.rename(index={0:'Total'}, inplace=True)\n",
    "        df = df.append(df_vcounts)\n",
    "        df['Total'] = df.sum(axis=1, skipna = True).values\n",
    "        \n",
    "    return df"
   ]
  },
  {
   "cell_type": "markdown",
   "metadata": {},
   "source": [
    "### Calculate Percentage"
   ]
  },
  {
   "cell_type": "code",
   "execution_count": 10,
   "metadata": {
    "execution": {
     "iopub.execute_input": "2021-06-08T06:43:17.671798Z",
     "iopub.status.busy": "2021-06-08T06:43:17.671629Z",
     "iopub.status.idle": "2021-06-08T06:43:17.675596Z",
     "shell.execute_reply": "2021-06-08T06:43:17.674944Z",
     "shell.execute_reply.started": "2021-06-08T06:43:17.671778Z"
    },
    "tags": []
   },
   "outputs": [],
   "source": [
    "def def_get_percentage(df):\n",
    "    df_per = df.copy()\n",
    "    for i in range(0,len(df_per.columns)):\n",
    "        df_per.iloc[:,i] = round(df.iloc[:,i] / df.iloc[-1,i]*100,2)\n",
    "    df_per.fillna(0, inplace=True)\n",
    "\n",
    "    # concat % character\n",
    "    for percol in df_per.columns:\n",
    "        df_per[percol] = [str(v)+\"%\" for v in df_per[percol]]\n",
    "        \n",
    "    return df_per"
   ]
  },
  {
   "cell_type": "markdown",
   "metadata": {},
   "source": [
    "## Cross Table"
   ]
  },
  {
   "cell_type": "markdown",
   "metadata": {},
   "source": [
    "### 단일 X 단일응답"
   ]
  },
  {
   "cell_type": "code",
   "execution_count": 11,
   "metadata": {
    "execution": {
     "iopub.execute_input": "2021-06-08T06:43:17.676759Z",
     "iopub.status.busy": "2021-06-08T06:43:17.676580Z",
     "iopub.status.idle": "2021-06-08T06:43:17.681845Z",
     "shell.execute_reply": "2021-06-08T06:43:17.681069Z",
     "shell.execute_reply.started": "2021-06-08T06:43:17.676740Z"
    },
    "scrolled": true,
    "tags": []
   },
   "outputs": [],
   "source": [
    "def s_answers_pivot(df, iv, dv):\n",
    "    cols = list()\n",
    "    cols.extend(iv)\n",
    "    cols.append(dv)\n",
    "\n",
    "    df_temp = df[cols].copy()\n",
    "\n",
    "    # Frequency & Sorting Header\n",
    "    if len(iv) == 1:\n",
    "        df_crosstab = pd.crosstab(df_temp[iv[0]], df_temp[dv]).T\n",
    "        df_crosstab = def_sort_index(df_crosstab,iv[0],1,0)\n",
    "    elif len(iv) == 2:\n",
    "        df_crosstab = pd.crosstab([df_temp[iv[0]], df_temp[iv[1]]], df_temp[dv]).T\n",
    "        for i, col in enumerate(iv):\n",
    "            df_crosstab = def_sort_index(df_crosstab,col,1,i)\n",
    "    else:\n",
    "        print('Exceeded number of Input variables')\n",
    "\n",
    "    # Sorting DV\n",
    "    df_crosstab = def_sort_index(df_crosstab,dv,None,None)\n",
    "\n",
    "    # Get Total \n",
    "    df_freq = def_get_total(df_crosstab, 'n', iv)\n",
    "    \n",
    "    # Percentage table\n",
    "    df_per = def_get_percentage(df_freq)\n",
    "    \n",
    "    return df_freq, df_per"
   ]
  },
  {
   "cell_type": "markdown",
   "metadata": {},
   "source": [
    "### 단일 X 복수응답"
   ]
  },
  {
   "cell_type": "code",
   "execution_count": 12,
   "metadata": {
    "execution": {
     "iopub.execute_input": "2021-06-08T06:43:17.682858Z",
     "iopub.status.busy": "2021-06-08T06:43:17.682684Z",
     "iopub.status.idle": "2021-06-08T06:43:17.689709Z",
     "shell.execute_reply": "2021-06-08T06:43:17.688962Z",
     "shell.execute_reply.started": "2021-06-08T06:43:17.682838Z"
    },
    "scrolled": true,
    "tags": []
   },
   "outputs": [],
   "source": [
    "def m_answers_pivot(df, iv, dv):\n",
    "    cols = list()\n",
    "    cols.extend(iv)\n",
    "    cols.append(dv)\n",
    "\n",
    "    df_temp = df[cols].copy()\n",
    "\n",
    "    # DV 컬럼 마지막에 comma 붙이기\n",
    "    df_temp[dv] = [str(v)+',' for v in df_temp[dv]]\n",
    "\n",
    "    # Mapper\n",
    "    mapper = df_mapper[df_mapper['column_nm'] == dv]['label'].tolist()\n",
    "    mappers_comma = [v+',' for v in mapper]\n",
    "\n",
    "    # label마다 컬럼만들기 문자가 포함되면 1 그렇지 않으면 0\n",
    "    for label in mappers_comma:\n",
    "        df_temp[label[:-1]] = [int(label in v) for v in df_temp[dv]]\n",
    "\n",
    "    # Others 처리 label이외에 어떤 문자가 적혀있으면 1 그렇지 않으면 0\n",
    "    others_list = []\n",
    "    for v in df_temp[dv]:\n",
    "        for label in mappers_comma:\n",
    "            v = v.replace(label,'').replace('nan','')\n",
    "        others_list.append(int(bool(v.strip())))\n",
    "    df_temp['기타(직접 입력)'] = others_list\n",
    "\n",
    "    # 원래 dv컬럼 제거\n",
    "    del df_temp[dv]\n",
    "    dv_cols = df_temp.columns.tolist()\n",
    "    dv_cols = [v for v in dv_cols if v not in iv]\n",
    "\n",
    "    # Crosstab(Frequency)\n",
    "    df_freq = df_temp.groupby(by=iv)[dv_cols].sum().T\n",
    "    if len(iv) == 1:\n",
    "        df_freq = def_sort_index(df_freq,iv[0],1,0)\n",
    "    elif len(iv) == 2:\n",
    "        for i, col in enumerate(iv):\n",
    "            df_freq = def_sort_index(df_freq,col,1,i)\n",
    "    \n",
    "    # Get Total \n",
    "    df_freq = def_get_total(df_freq, 'y', iv)\n",
    "    \n",
    "    # Percentage table \n",
    "    df_per = def_get_percentage(df_freq)\n",
    "\n",
    "    return df_freq, df_per"
   ]
  },
  {
   "cell_type": "code",
   "execution_count": 13,
   "metadata": {
    "execution": {
     "iopub.execute_input": "2021-06-08T06:43:17.691072Z",
     "iopub.status.busy": "2021-06-08T06:43:17.690787Z",
     "iopub.status.idle": "2021-06-08T06:43:17.736354Z",
     "shell.execute_reply": "2021-06-08T06:43:17.735672Z",
     "shell.execute_reply.started": "2021-06-08T06:43:17.691050Z"
    },
    "scrolled": true,
    "tags": []
   },
   "outputs": [],
   "source": [
    "# iv = ['나이']\n",
    "# dv = '최근사용한앱'\n",
    "\n",
    "# iv = ['성별','나이']\n",
    "# dv = '최근사용한앱'\n",
    "\n",
    "# iv = ['최근사용한앱']\n",
    "# dv = '나이'\n",
    "\n",
    "iv = ['성별','최근사용한앱']\n",
    "dv = '나이'\n",
    "\n",
    "df_freq, df_per = s_answers_pivot(df_raw, iv, dv)"
   ]
  },
  {
   "cell_type": "markdown",
   "metadata": {},
   "source": [
    "# Unload"
   ]
  },
  {
   "cell_type": "code",
   "execution_count": 14,
   "metadata": {
    "execution": {
     "iopub.execute_input": "2021-06-08T06:43:17.737480Z",
     "iopub.status.busy": "2021-06-08T06:43:17.737209Z",
     "iopub.status.idle": "2021-06-08T06:43:17.739922Z",
     "shell.execute_reply": "2021-06-08T06:43:17.739313Z",
     "shell.execute_reply.started": "2021-06-08T06:43:17.737457Z"
    },
    "tags": []
   },
   "outputs": [],
   "source": [
    "import os\n",
    "path = '/Users/justin/Desktop/fastcampus/result/'"
   ]
  },
  {
   "cell_type": "markdown",
   "metadata": {},
   "source": [
    "## General"
   ]
  },
  {
   "cell_type": "code",
   "execution_count": 15,
   "metadata": {
    "execution": {
     "iopub.execute_input": "2021-06-08T06:43:17.741064Z",
     "iopub.status.busy": "2021-06-08T06:43:17.740816Z",
     "iopub.status.idle": "2021-06-08T06:43:26.855000Z",
     "shell.execute_reply": "2021-06-08T06:43:26.854491Z",
     "shell.execute_reply.started": "2021-06-08T06:43:17.741041Z"
    },
    "scrolled": true,
    "tags": []
   },
   "outputs": [
    {
     "name": "stdout",
     "output_type": "stream",
     "text": [
      "성별X나이\n",
      "성별X사용하는앱\n",
      "성별X최근사용한앱\n",
      "성별X사용빈도\n",
      "성별X사용이유\n",
      "성별X만나고싶은사람\n",
      "성별X소통형태\n",
      "나이X성별\n",
      "나이X사용하는앱\n",
      "나이X최근사용한앱\n",
      "나이X사용빈도\n",
      "나이X사용이유\n",
      "나이X만나고싶은사람\n",
      "나이X소통형태\n",
      "최근사용한앱X성별\n",
      "최근사용한앱X나이\n",
      "최근사용한앱X사용하는앱\n",
      "최근사용한앱X사용빈도\n",
      "최근사용한앱X사용이유\n",
      "최근사용한앱X만나고싶은사람\n",
      "최근사용한앱X소통형태\n",
      "사용빈도X성별\n",
      "사용빈도X나이\n",
      "사용빈도X사용하는앱\n",
      "사용빈도X최근사용한앱\n",
      "사용빈도X사용이유\n",
      "사용빈도X만나고싶은사람\n",
      "사용빈도X소통형태\n",
      "소통형태X성별\n",
      "소통형태X나이\n",
      "소통형태X사용하는앱\n",
      "소통형태X최근사용한앱\n",
      "소통형태X사용빈도\n",
      "소통형태X사용이유\n",
      "소통형태X만나고싶은사람\n"
     ]
    }
   ],
   "source": [
    "iv_list = ['성별', '나이', '최근사용한앱', '사용빈도', '소통형태']\n",
    "dv_list = ['성별', '나이', '사용하는앱', '최근사용한앱', '사용빈도', '사용이유', '만나고싶은사람', '소통형태']\n",
    "unload_path = path+'rt_general.xlsx'\n",
    "\n",
    "for i in iv_list:\n",
    "    for dv in dv_list:\n",
    "        if i != dv:\n",
    "            iv = []\n",
    "            iv.append(i)            \n",
    "            if df_mapper[df_mapper['column_nm'] == dv]['multi_yn'].values[0] == 'n':\n",
    "                df_freq, df_per = s_answers_pivot(df_raw,iv,dv)\n",
    "            else:\n",
    "                df_freq, df_per = m_answers_pivot(df_raw,iv,dv)            \n",
    "\n",
    "            sheet_name = iv[0]+'X'+dv\n",
    "            if not os.path.exists(unload_path):\n",
    "                with pd.ExcelWriter(unload_path, mode='w', engine='openpyxl') as writer:\n",
    "                    df_freq.to_excel(writer, sheet_name = sheet_name)\n",
    "                    df_per.to_excel(writer, sheet_name = sheet_name, startrow=df_freq.shape[0]+2, startcol=0)\n",
    "            else:\n",
    "                with pd.ExcelWriter(unload_path, mode='a', engine='openpyxl') as writer:\n",
    "                    df_freq.to_excel(writer, sheet_name = sheet_name)\n",
    "                    df_per.to_excel(writer, sheet_name = sheet_name, startrow=df_freq.shape[0]+2, startcol=0)\n",
    "            print(sheet_name)"
   ]
  },
  {
   "cell_type": "markdown",
   "metadata": {},
   "source": [
    "## Demographic"
   ]
  },
  {
   "cell_type": "code",
   "execution_count": 16,
   "metadata": {
    "execution": {
     "iopub.execute_input": "2021-06-08T06:43:26.855911Z",
     "iopub.status.busy": "2021-06-08T06:43:26.855769Z",
     "iopub.status.idle": "2021-06-08T06:43:27.589418Z",
     "shell.execute_reply": "2021-06-08T06:43:27.588879Z",
     "shell.execute_reply.started": "2021-06-08T06:43:26.855892Z"
    },
    "tags": []
   },
   "outputs": [
    {
     "name": "stdout",
     "output_type": "stream",
     "text": [
      "사용하는앱\n",
      "최근사용한앱\n",
      "사용빈도\n",
      "사용이유\n",
      "만나고싶은사람\n",
      "소통형태\n"
     ]
    }
   ],
   "source": [
    "iv = ['성별','나이']\n",
    "dv_list = ['사용하는앱','최근사용한앱','사용빈도','사용이유','만나고싶은사람','소통형태']\n",
    "unload_path = path+'rt_demographic.xlsx'\n",
    "\n",
    "for dv in dv_list:\n",
    "    if df_mapper[df_mapper['column_nm'] == dv]['multi_yn'].values[0] == 'n':\n",
    "        df_freq, df_per = s_answers_pivot(df_raw,iv,dv)\n",
    "    else:\n",
    "        df_freq, df_per = m_answers_pivot(df_raw,iv,dv)            \n",
    "\n",
    "    sheet_name = dv\n",
    "    if not os.path.exists(unload_path):\n",
    "        with pd.ExcelWriter(unload_path, mode='w', engine='openpyxl') as writer:\n",
    "            df_freq.to_excel(writer, sheet_name = sheet_name)\n",
    "            df_per.to_excel(writer, sheet_name = sheet_name, startrow=df_freq.shape[0]+5, startcol=0)\n",
    "    else:\n",
    "        with pd.ExcelWriter(unload_path, mode='a', engine='openpyxl') as writer:\n",
    "            df_freq.to_excel(writer, sheet_name = sheet_name)\n",
    "            df_per.to_excel(writer, sheet_name = sheet_name, startrow=df_freq.shape[0]+5, startcol=0)\n",
    "    print(sheet_name)"
   ]
  },
  {
   "cell_type": "markdown",
   "metadata": {},
   "source": [
    "## Spoon"
   ]
  },
  {
   "cell_type": "code",
   "execution_count": 17,
   "metadata": {
    "execution": {
     "iopub.execute_input": "2021-06-08T06:43:27.590535Z",
     "iopub.status.busy": "2021-06-08T06:43:27.590366Z",
     "iopub.status.idle": "2021-06-08T06:43:27.597421Z",
     "shell.execute_reply": "2021-06-08T06:43:27.596763Z",
     "shell.execute_reply.started": "2021-06-08T06:43:27.590515Z"
    },
    "scrolled": true,
    "tags": []
   },
   "outputs": [
    {
     "data": {
      "text/plain": [
       "스푼 사용     2086\n",
       "스푼 미사용     868\n",
       "Name: 스푼사용여부, dtype: int64"
      ]
     },
     "execution_count": 17,
     "metadata": {},
     "output_type": "execute_result"
    }
   ],
   "source": [
    "# Sperate whether Spoon is the most used app in a recent month\n",
    "df_raw['스푼사용여부'] = ['스푼 사용' if (('스푼' == main) & (sub != '현재 이용하지 않음')) else '스푼 미사용' for main, sub in zip(df_raw['최근사용한앱'], df_raw['사용빈도'])]\n",
    "df_raw['스푼사용여부'].value_counts()"
   ]
  },
  {
   "cell_type": "code",
   "execution_count": 18,
   "metadata": {
    "execution": {
     "iopub.execute_input": "2021-06-08T06:43:27.598459Z",
     "iopub.status.busy": "2021-06-08T06:43:27.598288Z",
     "iopub.status.idle": "2021-06-08T06:43:27.938306Z",
     "shell.execute_reply": "2021-06-08T06:43:27.937693Z",
     "shell.execute_reply.started": "2021-06-08T06:43:27.598439Z"
    },
    "tags": []
   },
   "outputs": [
    {
     "name": "stdout",
     "output_type": "stream",
     "text": [
      "사용하는앱\n",
      "최근사용한앱\n",
      "사용빈도\n",
      "사용이유\n",
      "만나고싶은사람\n",
      "소통형태\n"
     ]
    }
   ],
   "source": [
    "# General\n",
    "iv = ['스푼사용여부']\n",
    "dv_list = ['사용하는앱','최근사용한앱','사용빈도','사용이유','만나고싶은사람','소통형태']\n",
    "unload_path = path+'rt_spoonyn.xlsx'\n",
    "\n",
    "for dv in dv_list:\n",
    "    if df_mapper[df_mapper['column_nm'] == dv]['multi_yn'].values[0] == 'n':\n",
    "        df_freq, df_per = s_answers_pivot(df_raw,iv,dv)\n",
    "    else:\n",
    "        df_freq, df_per = m_answers_pivot(df_raw,iv,dv)\n",
    "    \n",
    "    sheet_name = dv\n",
    "    if not os.path.exists(unload_path):\n",
    "        with pd.ExcelWriter(unload_path, mode='w', engine='openpyxl') as writer:\n",
    "            df_freq.to_excel(writer, sheet_name = sheet_name)\n",
    "            df_per.to_excel(writer, sheet_name = sheet_name, startrow=df_freq.shape[0]+2, startcol=0)            \n",
    "    else:\n",
    "        with pd.ExcelWriter(unload_path, mode='a', engine='openpyxl') as writer:\n",
    "            df_freq.to_excel(writer, sheet_name = sheet_name)\n",
    "            df_per.to_excel(writer, sheet_name = sheet_name, startrow=df_freq.shape[0]+2, startcol=0)            \n",
    "    print(sheet_name)"
   ]
  },
  {
   "cell_type": "code",
   "execution_count": 19,
   "metadata": {
    "execution": {
     "iopub.execute_input": "2021-06-08T06:43:27.939231Z",
     "iopub.status.busy": "2021-06-08T06:43:27.939091Z",
     "iopub.status.idle": "2021-06-08T06:43:28.639139Z",
     "shell.execute_reply": "2021-06-08T06:43:28.638593Z",
     "shell.execute_reply.started": "2021-06-08T06:43:27.939213Z"
    },
    "tags": []
   },
   "outputs": [
    {
     "name": "stdout",
     "output_type": "stream",
     "text": [
      "사용하는앱\n",
      "최근사용한앱\n",
      "사용빈도\n",
      "사용이유\n",
      "만나고싶은사람\n",
      "소통형태\n"
     ]
    }
   ],
   "source": [
    "# Demographic\n",
    "iv = ['스푼사용여부','나이']\n",
    "dv_list = ['사용하는앱','최근사용한앱','사용빈도','사용이유','만나고싶은사람','소통형태']\n",
    "unload_path = path+'rt_spoonyn_demo.xlsx'\n",
    "\n",
    "for dv in dv_list:\n",
    "    if df_mapper[df_mapper['column_nm'] == dv]['multi_yn'].values[0] == 'n':\n",
    "        df_freq, df_per = s_answers_pivot(df_raw,iv,dv)\n",
    "    else:\n",
    "        df_freq, df_per = m_answers_pivot(df_raw,iv,dv)\n",
    "    \n",
    "\n",
    "    sheet_name = dv\n",
    "    if not os.path.exists(unload_path):\n",
    "        with pd.ExcelWriter(unload_path, mode='w', engine='openpyxl') as writer:\n",
    "            df_freq.to_excel(writer, sheet_name = sheet_name)\n",
    "            df_per.to_excel(writer, sheet_name = sheet_name, startrow=df_freq.shape[0]+5, startcol=0)\n",
    "    else:\n",
    "        with pd.ExcelWriter(unload_path, mode='a', engine='openpyxl') as writer:\n",
    "            df_freq.to_excel(writer, sheet_name = sheet_name)\n",
    "            df_per.to_excel(writer, sheet_name = sheet_name, startrow=df_freq.shape[0]+5, startcol=0)\n",
    "    print(sheet_name)"
   ]
  },
  {
   "cell_type": "markdown",
   "metadata": {},
   "source": [
    "# Chi-square Testing"
   ]
  },
  {
   "cell_type": "markdown",
   "metadata": {},
   "source": [
    "- 질적자료 질적자료간에 서로 통계적으로 관계가 있는지 판단하는 검정\n",
    "- 카이제곱 분포를 기반으로 관찰된 빈도와 기대하는 빈도가 의미있게 다른지 여부를 검정\n",
    "- 귀무가설: 나이와 사용이유는 관련성이 있다\n",
    "- 대립가설: 나이와 사용이유는 관련성이 없다"
   ]
  },
  {
   "cell_type": "code",
   "execution_count": 20,
   "metadata": {
    "execution": {
     "iopub.execute_input": "2021-06-08T06:43:28.640212Z",
     "iopub.status.busy": "2021-06-08T06:43:28.640048Z",
     "iopub.status.idle": "2021-06-08T06:43:32.673992Z",
     "shell.execute_reply": "2021-06-08T06:43:32.673051Z",
     "shell.execute_reply.started": "2021-06-08T06:43:28.640193Z"
    }
   },
   "outputs": [],
   "source": [
    "import scipy.stats as stats"
   ]
  },
  {
   "cell_type": "code",
   "execution_count": 21,
   "metadata": {
    "execution": {
     "iopub.execute_input": "2021-06-08T06:43:32.675703Z",
     "iopub.status.busy": "2021-06-08T06:43:32.675428Z",
     "iopub.status.idle": "2021-06-08T06:43:32.707606Z",
     "shell.execute_reply": "2021-06-08T06:43:32.706975Z",
     "shell.execute_reply.started": "2021-06-08T06:43:32.675674Z"
    },
    "tags": []
   },
   "outputs": [
    {
     "data": {
      "text/html": [
       "<div>\n",
       "<style scoped>\n",
       "    .dataframe tbody tr th:only-of-type {\n",
       "        vertical-align: middle;\n",
       "    }\n",
       "\n",
       "    .dataframe tbody tr th {\n",
       "        vertical-align: top;\n",
       "    }\n",
       "\n",
       "    .dataframe thead th {\n",
       "        text-align: right;\n",
       "    }\n",
       "</style>\n",
       "<table border=\"1\" class=\"dataframe\">\n",
       "  <thead>\n",
       "    <tr style=\"text-align: right;\">\n",
       "      <th>나이</th>\n",
       "      <th>14세 이상-18세 미만</th>\n",
       "      <th>18-24세</th>\n",
       "      <th>25-29세</th>\n",
       "      <th>30-39세</th>\n",
       "      <th>40세 이상</th>\n",
       "    </tr>\n",
       "  </thead>\n",
       "  <tbody>\n",
       "    <tr>\n",
       "      <th>바나나</th>\n",
       "      <td>102</td>\n",
       "      <td>248</td>\n",
       "      <td>94</td>\n",
       "      <td>72</td>\n",
       "      <td>26</td>\n",
       "    </tr>\n",
       "    <tr>\n",
       "      <th>포도</th>\n",
       "      <td>50</td>\n",
       "      <td>130</td>\n",
       "      <td>34</td>\n",
       "      <td>18</td>\n",
       "      <td>10</td>\n",
       "    </tr>\n",
       "    <tr>\n",
       "      <th>오렌지</th>\n",
       "      <td>16</td>\n",
       "      <td>80</td>\n",
       "      <td>78</td>\n",
       "      <td>58</td>\n",
       "      <td>18</td>\n",
       "    </tr>\n",
       "    <tr>\n",
       "      <th>사과</th>\n",
       "      <td>282</td>\n",
       "      <td>646</td>\n",
       "      <td>292</td>\n",
       "      <td>210</td>\n",
       "      <td>48</td>\n",
       "    </tr>\n",
       "    <tr>\n",
       "      <th>수박</th>\n",
       "      <td>24</td>\n",
       "      <td>56</td>\n",
       "      <td>30</td>\n",
       "      <td>68</td>\n",
       "      <td>24</td>\n",
       "    </tr>\n",
       "    <tr>\n",
       "      <th>배</th>\n",
       "      <td>4</td>\n",
       "      <td>20</td>\n",
       "      <td>14</td>\n",
       "      <td>26</td>\n",
       "      <td>12</td>\n",
       "    </tr>\n",
       "    <tr>\n",
       "      <th>기타</th>\n",
       "      <td>36</td>\n",
       "      <td>70</td>\n",
       "      <td>26</td>\n",
       "      <td>30</td>\n",
       "      <td>2</td>\n",
       "    </tr>\n",
       "  </tbody>\n",
       "</table>\n",
       "</div>"
      ],
      "text/plain": [
       "나이   14세 이상-18세 미만  18-24세  25-29세  30-39세  40세 이상\n",
       "바나나            102     248      94      72      26\n",
       "포도              50     130      34      18      10\n",
       "오렌지             16      80      78      58      18\n",
       "사과             282     646     292     210      48\n",
       "수박              24      56      30      68      24\n",
       "배                4      20      14      26      12\n",
       "기타              36      70      26      30       2"
      ]
     },
     "execution_count": 21,
     "metadata": {},
     "output_type": "execute_result"
    }
   ],
   "source": [
    "df_freq, df_per = s_answers_pivot(df_raw, ['나이'], '사용이유')\n",
    "df_freq_prc = df_freq.iloc[:-1,:-1]\n",
    "df_freq_prc"
   ]
  },
  {
   "cell_type": "code",
   "execution_count": 22,
   "metadata": {
    "execution": {
     "iopub.execute_input": "2021-06-08T06:43:32.708764Z",
     "iopub.status.busy": "2021-06-08T06:43:32.708511Z",
     "iopub.status.idle": "2021-06-08T06:43:32.718542Z",
     "shell.execute_reply": "2021-06-08T06:43:32.717771Z",
     "shell.execute_reply.started": "2021-06-08T06:43:32.708737Z"
    },
    "tags": []
   },
   "outputs": [
    {
     "name": "stdout",
     "output_type": "stream",
     "text": [
      "225.2543 0.0\n"
     ]
    },
    {
     "data": {
      "text/html": [
       "<div>\n",
       "<style scoped>\n",
       "    .dataframe tbody tr th:only-of-type {\n",
       "        vertical-align: middle;\n",
       "    }\n",
       "\n",
       "    .dataframe tbody tr th {\n",
       "        vertical-align: top;\n",
       "    }\n",
       "\n",
       "    .dataframe thead th {\n",
       "        text-align: right;\n",
       "    }\n",
       "</style>\n",
       "<table border=\"1\" class=\"dataframe\">\n",
       "  <thead>\n",
       "    <tr style=\"text-align: right;\">\n",
       "      <th></th>\n",
       "      <th>stat</th>\n",
       "    </tr>\n",
       "  </thead>\n",
       "  <tbody>\n",
       "    <tr>\n",
       "      <th>chi_square</th>\n",
       "      <td>225.2543</td>\n",
       "    </tr>\n",
       "    <tr>\n",
       "      <th>pvalue</th>\n",
       "      <td>0.0000</td>\n",
       "    </tr>\n",
       "  </tbody>\n",
       "</table>\n",
       "</div>"
      ],
      "text/plain": [
       "                stat\n",
       "chi_square  225.2543\n",
       "pvalue        0.0000"
      ]
     },
     "execution_count": 22,
     "metadata": {},
     "output_type": "execute_result"
    }
   ],
   "source": [
    "rt = stats.chi2_contingency(observed=df_freq_prc)\n",
    "chi_square = round(rt[0],4)\n",
    "pvalue = round(rt[1],4)\n",
    "print(chi_square, pvalue)\n",
    "\n",
    "sr_stat = pd.DataFrame([chi_square, pvalue])\n",
    "sr_stat.rename(index={0:'chi_square', 1:'pvalue'}, inplace=True)\n",
    "sr_stat.columns = ['stat']\n",
    "sr_stat"
   ]
  }
 ],
 "metadata": {
  "kernelspec": {
   "display_name": "Python 3",
   "language": "python",
   "name": "python3"
  },
  "language_info": {
   "codemirror_mode": {
    "name": "ipython",
    "version": 3
   },
   "file_extension": ".py",
   "mimetype": "text/x-python",
   "name": "python",
   "nbconvert_exporter": "python",
   "pygments_lexer": "ipython3",
   "version": "3.8.5"
  },
  "toc-autonumbering": false
 },
 "nbformat": 4,
 "nbformat_minor": 4
}
